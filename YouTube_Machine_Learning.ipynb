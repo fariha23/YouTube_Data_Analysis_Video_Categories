{
 "cells": [
  {
   "cell_type": "code",
   "execution_count": 152,
   "metadata": {},
   "outputs": [],
   "source": [
    "#import YouTube_Data_Story as ds\n",
    "import YouTube_Data_Wrangling as dw\n",
    "import pymc3 as pm\n",
    "import pandas as pd\n",
    "import matplotlib.pyplot as plt\n",
    "import numpy as np\n",
    "import math\n",
    "from scipy import stats\n",
    "import matplotlib.ticker as ticker\n",
    "from mpl_toolkits.mplot3d import Axes3D\n",
    "from sklearn.cluster import KMeans\n",
    "import holidays\n",
    "import datetime\n",
    "from datetime import date\n",
    "from sklearn.model_selection import KFold\n",
    "from sklearn.model_selection import train_test_split\n",
    "\n",
    "from sklearn.neighbors import KNeighborsClassifier\n",
    "from sklearn.model_selection import train_test_split, GridSearchCV\n",
    "from sklearn.ensemble import RandomForestClassifier,GradientBoostingClassifier, VotingClassifier\n",
    "from sklearn import preprocessing\n",
    "from sklearn.linear_model import LogisticRegression\n",
    "from sklearn import svm\n",
    "from sklearn.pipeline import Pipeline\n",
    "from sklearn.preprocessing import StandardScaler\n",
    "from sklearn.svm import SVC\n",
    "from sklearn.metrics import plot_roc_curve\n",
    "\n",
    "from sklearn.feature_extraction.text import CountVectorizer\n",
    "import nltk\n",
    "from collections import Counter\n",
    "import matplotlib\n",
    "from sklearn.metrics import precision_recall_fscore_support\n",
    "from sklearn.metrics import confusion_matrix\n",
    "import seaborn as sns"
   ]
  },
  {
   "cell_type": "code",
   "execution_count": 156,
   "metadata": {},
   "outputs": [],
   "source": [
    "## FUNCTIONS\n",
    "\n",
    "def prec_re(y_test, y_pred, classifier):\n",
    "    ps,rs,fs,ss=precision_recall_fscore_support(y_test, y_pred, average=None,labels=[0,1,2])\n",
    "    df=pd.DataFrame({'precision': ps, 'recall': rs, 'f-score': fs, 'sample_size': ss})\n",
    "    return df.style.set_caption(\"Precision-Recall -\"+ classifier).\\\n",
    "        format({'precision': \"{:.2}\", 'recall': \"{:.2}\", 'f-score': \"{:.2}\" })\n",
    "\n",
    "def feature_importance(estimator, ax, title):\n",
    "    \n",
    "    feat_importances = pd.Series(estimator.feature_importances_, index=X.columns)\n",
    "    feat_importances.nlargest(20).plot(kind='barh', ax=ax, title=title)\n",
    "    plt.title(title)\n",
    "    \n",
    "def confusion(y_test, y_pred,title):\n",
    "    ax = plt.axes()\n",
    "    cm=confusion_matrix(y_test, y_pred,  labels=[0, 1, 2], normalize='all')\n",
    "    df = pd.DataFrame(cm*100, range(3), range(3))\n",
    "    sns.set(font_scale=1.4) # for label size\n",
    "    sns.heatmap(df, annot=True, annot_kws={\"size\": 16}) # font size\n",
    "    ax.set_title(title)\n",
    "    plt.show()\n",
    "    "
   ]
  },
  {
   "cell_type": "code",
   "execution_count": 2,
   "metadata": {},
   "outputs": [],
   "source": [
    "usa_df=pd.read_csv(\"USvideos.csv\", parse_dates=[5])\n",
    "mx_df=pd.read_csv(\"MXvideos.csv\",engine='python')\n",
    "usa_df['category_name']=usa_df['category_id'].map(dw.category_usa)\n",
    "mx_df['category_name']=mx_df['category_id'].map(dw.category_mx)\n",
    "\n",
    "usa_df['country']='USA'\n",
    "mx_df['country']='Mexico'\n",
    "\n",
    "df_combined_usa_mx=usa_df.append(mx_df)\n",
    "df_combined_usa_mx.reset_index(inplace=True, drop=True)\n",
    "df_combined_usa_mx.drop_duplicates(inplace=True)\n",
    "df_combined_usa_mx.dropna(axis=0, how=\"any\",inplace=True)\n",
    "df_combined_usa_mx.reset_index(inplace=True, drop=True)"
   ]
  },
  {
   "cell_type": "code",
   "execution_count": 3,
   "metadata": {},
   "outputs": [],
   "source": [
    "#df_combined_usa_mx.head()"
   ]
  },
  {
   "cell_type": "code",
   "execution_count": 5,
   "metadata": {},
   "outputs": [],
   "source": [
    "#publish_time - breaking into year/month/day/weekday/time columns\n",
    "\n",
    "df_combined_usa_mx['publish_time'] = pd.to_datetime(df_combined_usa_mx['publish_time'], utc=True)\n",
    "df_combined_usa_mx['p_year']=df_combined_usa_mx['publish_time'].dt.year\n",
    "df_combined_usa_mx['p_month'] =df_combined_usa_mx['publish_time'].dt.month\n",
    "df_combined_usa_mx['p_day'] = df_combined_usa_mx['publish_time'].dt.day\n",
    "df_combined_usa_mx[\"p_weekday\"]=df_combined_usa_mx['publish_time'].dt.weekday\n",
    "df_combined_usa_mx['p_time'] = df_combined_usa_mx['publish_time'].dt.hour"
   ]
  },
  {
   "cell_type": "code",
   "execution_count": 110,
   "metadata": {},
   "outputs": [],
   "source": [
    "#Changing trending_date to datetime object\n",
    "def tempdate(a):\n",
    "    b=a.split(\".\")\n",
    "    c=b[1]+b[2]+b[0]\n",
    "    return c\n",
    "\n",
    "df_combined_usa_mx['trending_date_new']=df_combined_usa_mx['trending_date'].apply(tempdate)\n",
    "df_combined_usa_mx['trending_date_new']=pd.to_datetime(df_combined_usa_mx['trending_date_new'])\n",
    "df_combined_usa_mx['trending_date']=df_combined_usa_mx['trending_date_new']\n",
    "df_combined_usa_mx.drop(['trending_date_new'],axis=1,inplace=True)\n",
    "df_combined_usa_mx['trending_date']=pd.to_datetime(df_combined_usa_mx['trending_date'])\n",
    "#combined_usa_mx_df.info()\n",
    "#Both dateTime columns have been converted to dateTime type successfully\n",
    "###"
   ]
  },
  {
   "cell_type": "code",
   "execution_count": 8,
   "metadata": {},
   "outputs": [],
   "source": [
    "#df_combined_usa_mx.info() #7635 entries"
   ]
  },
  {
   "cell_type": "code",
   "execution_count": 9,
   "metadata": {},
   "outputs": [],
   "source": [
    "df=df_combined_usa_mx.sort_values('trending_date', ascending=False).groupby('title').first()\n",
    "df.reset_index(inplace=True)"
   ]
  },
  {
   "cell_type": "code",
   "execution_count": 11,
   "metadata": {},
   "outputs": [],
   "source": [
    "#df.info() #35843 entries"
   ]
  },
  {
   "cell_type": "code",
   "execution_count": 12,
   "metadata": {},
   "outputs": [],
   "source": [
    "df['title_len']=df.title.str.len()\n",
    "df['channel_title_len']=df.channel_title.str.len()"
   ]
  },
  {
   "cell_type": "code",
   "execution_count": 13,
   "metadata": {},
   "outputs": [],
   "source": [
    "#disabled CC rows are dropped as they unnessarly give smaller Engagemnt score \n",
    "rowstodel=df[df.comments_disabled==True].index\n",
    "df.drop(rowstodel, inplace=True)\n",
    "\n",
    "\n",
    "#disabled ratings rows are dropped as they unnessarly give smaller Engagemnt score \n",
    "rowstodel1=df[df.ratings_disabled==True].index\n",
    "df.drop(rowstodel1, inplace=True)\n"
   ]
  },
  {
   "cell_type": "code",
   "execution_count": 14,
   "metadata": {},
   "outputs": [],
   "source": [
    "df.reset_index(inplace=True, drop=True)"
   ]
  },
  {
   "cell_type": "code",
   "execution_count": 16,
   "metadata": {},
   "outputs": [],
   "source": [
    "#df.info()  #35152(cc and ratings disabled)"
   ]
  },
  {
   "cell_type": "code",
   "execution_count": 17,
   "metadata": {},
   "outputs": [],
   "source": [
    "# Not adding ER as (likes/dislikes/2*cc) as when I take it's log it's almost 100% 0.0 which makes no difference. \n",
    "#I am going to take CC_log, likes_log, dislikes_log\n",
    "\n",
    "df['En']=df.likes+df.dislikes+2*df.comment_count"
   ]
  },
  {
   "cell_type": "code",
   "execution_count": 18,
   "metadata": {},
   "outputs": [],
   "source": [
    "df_save=df #saved df \n",
    "\n",
    "df_catname_cat=pd.DataFrame({'cat':df.category_id,'cat_name':df.category_name})  #saving catname and cat mapping"
   ]
  },
  {
   "cell_type": "code",
   "execution_count": 19,
   "metadata": {},
   "outputs": [],
   "source": [
    "#df.columns  #Index(['title', 'video_id', 'trending_date', 'channel_title', 'category_id','publish_time', 'tags', 'views', 'likes', 'dislikes', 'comment_count',\n",
    "       #'thumbnail_link', 'comments_disabled', 'ratings_disabled',\n",
    "       #'video_error_or_removed', 'description', 'category_name', 'country',\n",
    "       #'p_year', 'p_month', 'p_day', 'p_weekday', 'p_time', 'title_len',\n",
    "       #'channel_title_len', 'ER'],\n",
    "      #dtype='object')"
   ]
  },
  {
   "cell_type": "code",
   "execution_count": 20,
   "metadata": {},
   "outputs": [],
   "source": [
    "df['views_log']=np.log(df.views)\n",
    "df['En_log']=np.log((df.En+1))"
   ]
  },
  {
   "cell_type": "code",
   "execution_count": 21,
   "metadata": {},
   "outputs": [],
   "source": [
    "df.drop(['channel_title','description','tags','trending_date','category_name','publish_time','likes','dislikes','comment_count','views','En','video_id','thumbnail_link', 'comments_disabled', 'ratings_disabled','video_error_or_removed' ], axis=1, inplace=True)"
   ]
  },
  {
   "cell_type": "code",
   "execution_count": 22,
   "metadata": {},
   "outputs": [],
   "source": [
    "#### DO TEXT ANALYSIS NOW"
   ]
  },
  {
   "cell_type": "code",
   "execution_count": 23,
   "metadata": {},
   "outputs": [
    {
     "data": {
      "text/plain": [
       "35152"
      ]
     },
     "execution_count": 23,
     "metadata": {},
     "output_type": "execute_result"
    }
   ],
   "source": [
    "text_data=np.array(df['title'])\n",
    "len(text_data)"
   ]
  },
  {
   "cell_type": "code",
   "execution_count": 24,
   "metadata": {},
   "outputs": [],
   "source": [
    "count = CountVectorizer()\n",
    "bag_of_words = count.fit_transform(text_data)"
   ]
  },
  {
   "cell_type": "code",
   "execution_count": 25,
   "metadata": {},
   "outputs": [
    {
     "data": {
      "text/plain": [
       "35122"
      ]
     },
     "execution_count": 25,
     "metadata": {},
     "output_type": "execute_result"
    }
   ],
   "source": [
    "feature_names = count.get_feature_names()\n",
    "len(feature_names)"
   ]
  },
  {
   "cell_type": "code",
   "execution_count": 26,
   "metadata": {},
   "outputs": [],
   "source": [
    "df_nlp=pd.DataFrame(bag_of_words.toarray(), columns=feature_names)"
   ]
  },
  {
   "cell_type": "code",
   "execution_count": 27,
   "metadata": {},
   "outputs": [
    {
     "data": {
      "text/plain": [
       "Index(['vs', 'video', 'parte', 'completo', 'capitulo', 'hd', 'programa',\n",
       "       'capã­tulo', 'hoy', 'official', 'vivo'],\n",
       "      dtype='object', name='Word')"
      ]
     },
     "execution_count": 27,
     "metadata": {},
     "output_type": "execute_result"
    }
   ],
   "source": [
    "stopwordsE = nltk.corpus.stopwords.words('english')\n",
    "stopwordsS = nltk.corpus.stopwords.words('spanish')\n",
    "\n",
    "# RegEx for stopwords\n",
    "RE_stopwordsE = r'\\b(?:{})\\b'.format('|'.join(stopwordsE))\n",
    "RE_stopwordsS = r'\\b(?:{})\\b'.format('|'.join(stopwordsS))\n",
    "\n",
    "# replace '|'-->' ' and drop all stopwords\n",
    "words = (df.title\n",
    "           .str.lower()\n",
    "           .replace([r'\\d+|', r'\\|',r'-|',r'&|',RE_stopwordsE,RE_stopwordsS,'\\(', '\\'', '\\)', '\\//',':', '/',',','#','!'], ['','','','','','','','','','','','','','',''], regex=True)\n",
    "           .str.cat(sep=' ')\n",
    "           .split()\n",
    ")\n",
    "\n",
    "# generate DataFrame out of Counter\n",
    "rslt = pd.DataFrame(Counter(words).most_common(11),\n",
    "                    columns=['Word', 'Frequency']).set_index('Word')\n",
    "rslt.index"
   ]
  },
  {
   "cell_type": "code",
   "execution_count": 29,
   "metadata": {},
   "outputs": [],
   "source": [
    "word_list=['vs', 'video', 'parte', 'completo', 'capitulo', 'hd', 'programa', 'hoy', 'official', 'vivo']\n",
    "df_nlp_new=df_nlp[word_list]\n",
    "#df_nlp_new.info() #35152 entries"
   ]
  },
  {
   "cell_type": "code",
   "execution_count": 30,
   "metadata": {},
   "outputs": [
    {
     "data": {
      "text/html": [
       "<div>\n",
       "<style scoped>\n",
       "    .dataframe tbody tr th:only-of-type {\n",
       "        vertical-align: middle;\n",
       "    }\n",
       "\n",
       "    .dataframe tbody tr th {\n",
       "        vertical-align: top;\n",
       "    }\n",
       "\n",
       "    .dataframe thead th {\n",
       "        text-align: right;\n",
       "    }\n",
       "</style>\n",
       "<table border=\"1\" class=\"dataframe\">\n",
       "  <thead>\n",
       "    <tr style=\"text-align: right;\">\n",
       "      <th></th>\n",
       "      <th>title</th>\n",
       "      <th>category_id</th>\n",
       "      <th>country</th>\n",
       "      <th>p_year</th>\n",
       "      <th>p_month</th>\n",
       "      <th>p_day</th>\n",
       "      <th>p_weekday</th>\n",
       "      <th>p_time</th>\n",
       "      <th>title_len</th>\n",
       "      <th>channel_title_len</th>\n",
       "      <th>...</th>\n",
       "      <th>vs</th>\n",
       "      <th>video</th>\n",
       "      <th>parte</th>\n",
       "      <th>completo</th>\n",
       "      <th>capitulo</th>\n",
       "      <th>hd</th>\n",
       "      <th>programa</th>\n",
       "      <th>hoy</th>\n",
       "      <th>official</th>\n",
       "      <th>vivo</th>\n",
       "    </tr>\n",
       "  </thead>\n",
       "  <tbody>\n",
       "    <tr>\n",
       "      <th>0</th>\n",
       "      <td>Es admirable que Shani haya tenido agallas pa...</td>\n",
       "      <td>17</td>\n",
       "      <td>Mexico</td>\n",
       "      <td>2018</td>\n",
       "      <td>2</td>\n",
       "      <td>1</td>\n",
       "      <td>3</td>\n",
       "      <td>19</td>\n",
       "      <td>68</td>\n",
       "      <td>18</td>\n",
       "      <td>...</td>\n",
       "      <td>0</td>\n",
       "      <td>0</td>\n",
       "      <td>0</td>\n",
       "      <td>0</td>\n",
       "      <td>0</td>\n",
       "      <td>0</td>\n",
       "      <td>0</td>\n",
       "      <td>0</td>\n",
       "      <td>0</td>\n",
       "      <td>0</td>\n",
       "    </tr>\n",
       "    <tr>\n",
       "      <th>1</th>\n",
       "      <td>Fantasma, no necesitabas traer a tus achichin...</td>\n",
       "      <td>17</td>\n",
       "      <td>Mexico</td>\n",
       "      <td>2018</td>\n",
       "      <td>3</td>\n",
       "      <td>8</td>\n",
       "      <td>3</td>\n",
       "      <td>20</td>\n",
       "      <td>75</td>\n",
       "      <td>18</td>\n",
       "      <td>...</td>\n",
       "      <td>0</td>\n",
       "      <td>0</td>\n",
       "      <td>0</td>\n",
       "      <td>0</td>\n",
       "      <td>0</td>\n",
       "      <td>0</td>\n",
       "      <td>0</td>\n",
       "      <td>0</td>\n",
       "      <td>0</td>\n",
       "      <td>0</td>\n",
       "    </tr>\n",
       "    <tr>\n",
       "      <th>2</th>\n",
       "      <td>Me La JuguÃ© con Riesgo a Tronarme AsÃ­ HablÃ...</td>\n",
       "      <td>17</td>\n",
       "      <td>Mexico</td>\n",
       "      <td>2018</td>\n",
       "      <td>5</td>\n",
       "      <td>6</td>\n",
       "      <td>6</td>\n",
       "      <td>6</td>\n",
       "      <td>99</td>\n",
       "      <td>13</td>\n",
       "      <td>...</td>\n",
       "      <td>0</td>\n",
       "      <td>0</td>\n",
       "      <td>0</td>\n",
       "      <td>0</td>\n",
       "      <td>0</td>\n",
       "      <td>0</td>\n",
       "      <td>0</td>\n",
       "      <td>0</td>\n",
       "      <td>0</td>\n",
       "      <td>0</td>\n",
       "    </tr>\n",
       "    <tr>\n",
       "      <th>3</th>\n",
       "      <td>PEDRO INFANTE ERA CHAPARRITO   -  ISMAEL RODR...</td>\n",
       "      <td>10</td>\n",
       "      <td>Mexico</td>\n",
       "      <td>2018</td>\n",
       "      <td>3</td>\n",
       "      <td>27</td>\n",
       "      <td>1</td>\n",
       "      <td>12</td>\n",
       "      <td>51</td>\n",
       "      <td>10</td>\n",
       "      <td>...</td>\n",
       "      <td>0</td>\n",
       "      <td>0</td>\n",
       "      <td>0</td>\n",
       "      <td>0</td>\n",
       "      <td>0</td>\n",
       "      <td>0</td>\n",
       "      <td>0</td>\n",
       "      <td>0</td>\n",
       "      <td>0</td>\n",
       "      <td>0</td>\n",
       "    </tr>\n",
       "    <tr>\n",
       "      <th>4</th>\n",
       "      <td>SI SOY PEDRO  INFANTE  - ANTONIO PEDRO A TERE...</td>\n",
       "      <td>10</td>\n",
       "      <td>Mexico</td>\n",
       "      <td>2017</td>\n",
       "      <td>12</td>\n",
       "      <td>1</td>\n",
       "      <td>4</td>\n",
       "      <td>14</td>\n",
       "      <td>58</td>\n",
       "      <td>10</td>\n",
       "      <td>...</td>\n",
       "      <td>0</td>\n",
       "      <td>0</td>\n",
       "      <td>0</td>\n",
       "      <td>0</td>\n",
       "      <td>0</td>\n",
       "      <td>0</td>\n",
       "      <td>0</td>\n",
       "      <td>0</td>\n",
       "      <td>0</td>\n",
       "      <td>0</td>\n",
       "    </tr>\n",
       "  </tbody>\n",
       "</table>\n",
       "<p>5 rows × 22 columns</p>\n",
       "</div>"
      ],
      "text/plain": [
       "                                               title  category_id country  \\\n",
       "0   Es admirable que Shani haya tenido agallas pa...           17  Mexico   \n",
       "1   Fantasma, no necesitabas traer a tus achichin...           17  Mexico   \n",
       "2   Me La JuguÃ© con Riesgo a Tronarme AsÃ­ HablÃ...           17  Mexico   \n",
       "3   PEDRO INFANTE ERA CHAPARRITO   -  ISMAEL RODR...           10  Mexico   \n",
       "4   SI SOY PEDRO  INFANTE  - ANTONIO PEDRO A TERE...           10  Mexico   \n",
       "\n",
       "   p_year  p_month  p_day  p_weekday  p_time  title_len  channel_title_len  \\\n",
       "0    2018        2      1          3      19         68                 18   \n",
       "1    2018        3      8          3      20         75                 18   \n",
       "2    2018        5      6          6       6         99                 13   \n",
       "3    2018        3     27          1      12         51                 10   \n",
       "4    2017       12      1          4      14         58                 10   \n",
       "\n",
       "   ...  vs  video  parte  completo  capitulo  hd  programa  hoy  official  \\\n",
       "0  ...   0      0      0         0         0   0         0    0         0   \n",
       "1  ...   0      0      0         0         0   0         0    0         0   \n",
       "2  ...   0      0      0         0         0   0         0    0         0   \n",
       "3  ...   0      0      0         0         0   0         0    0         0   \n",
       "4  ...   0      0      0         0         0   0         0    0         0   \n",
       "\n",
       "   vivo  \n",
       "0     0  \n",
       "1     0  \n",
       "2     0  \n",
       "3     0  \n",
       "4     0  \n",
       "\n",
       "[5 rows x 22 columns]"
      ]
     },
     "execution_count": 30,
     "metadata": {},
     "output_type": "execute_result"
    }
   ],
   "source": [
    "#df.info()\n",
    "df1=pd.concat([df,df_nlp_new], axis=1)\n",
    "#df1.head()"
   ]
  },
  {
   "cell_type": "code",
   "execution_count": 31,
   "metadata": {},
   "outputs": [],
   "source": [
    "df1.drop(['title'], axis=1, inplace=True)"
   ]
  },
  {
   "cell_type": "code",
   "execution_count": 32,
   "metadata": {},
   "outputs": [
    {
     "data": {
      "text/html": [
       "<div>\n",
       "<style scoped>\n",
       "    .dataframe tbody tr th:only-of-type {\n",
       "        vertical-align: middle;\n",
       "    }\n",
       "\n",
       "    .dataframe tbody tr th {\n",
       "        vertical-align: top;\n",
       "    }\n",
       "\n",
       "    .dataframe thead th {\n",
       "        text-align: right;\n",
       "    }\n",
       "</style>\n",
       "<table border=\"1\" class=\"dataframe\">\n",
       "  <thead>\n",
       "    <tr style=\"text-align: right;\">\n",
       "      <th></th>\n",
       "      <th>category_id</th>\n",
       "      <th>country</th>\n",
       "      <th>p_year</th>\n",
       "      <th>p_month</th>\n",
       "      <th>p_day</th>\n",
       "      <th>p_weekday</th>\n",
       "      <th>p_time</th>\n",
       "      <th>title_len</th>\n",
       "      <th>channel_title_len</th>\n",
       "      <th>views_log</th>\n",
       "      <th>...</th>\n",
       "      <th>vs</th>\n",
       "      <th>video</th>\n",
       "      <th>parte</th>\n",
       "      <th>completo</th>\n",
       "      <th>capitulo</th>\n",
       "      <th>hd</th>\n",
       "      <th>programa</th>\n",
       "      <th>hoy</th>\n",
       "      <th>official</th>\n",
       "      <th>vivo</th>\n",
       "    </tr>\n",
       "  </thead>\n",
       "  <tbody>\n",
       "    <tr>\n",
       "      <th>0</th>\n",
       "      <td>17</td>\n",
       "      <td>Mexico</td>\n",
       "      <td>2018</td>\n",
       "      <td>2</td>\n",
       "      <td>1</td>\n",
       "      <td>3</td>\n",
       "      <td>19</td>\n",
       "      <td>68</td>\n",
       "      <td>18</td>\n",
       "      <td>8.7</td>\n",
       "      <td>...</td>\n",
       "      <td>0</td>\n",
       "      <td>0</td>\n",
       "      <td>0</td>\n",
       "      <td>0</td>\n",
       "      <td>0</td>\n",
       "      <td>0</td>\n",
       "      <td>0</td>\n",
       "      <td>0</td>\n",
       "      <td>0</td>\n",
       "      <td>0</td>\n",
       "    </tr>\n",
       "    <tr>\n",
       "      <th>1</th>\n",
       "      <td>17</td>\n",
       "      <td>Mexico</td>\n",
       "      <td>2018</td>\n",
       "      <td>3</td>\n",
       "      <td>8</td>\n",
       "      <td>3</td>\n",
       "      <td>20</td>\n",
       "      <td>75</td>\n",
       "      <td>18</td>\n",
       "      <td>8.6</td>\n",
       "      <td>...</td>\n",
       "      <td>0</td>\n",
       "      <td>0</td>\n",
       "      <td>0</td>\n",
       "      <td>0</td>\n",
       "      <td>0</td>\n",
       "      <td>0</td>\n",
       "      <td>0</td>\n",
       "      <td>0</td>\n",
       "      <td>0</td>\n",
       "      <td>0</td>\n",
       "    </tr>\n",
       "    <tr>\n",
       "      <th>2</th>\n",
       "      <td>17</td>\n",
       "      <td>Mexico</td>\n",
       "      <td>2018</td>\n",
       "      <td>5</td>\n",
       "      <td>6</td>\n",
       "      <td>6</td>\n",
       "      <td>6</td>\n",
       "      <td>99</td>\n",
       "      <td>13</td>\n",
       "      <td>9.2</td>\n",
       "      <td>...</td>\n",
       "      <td>0</td>\n",
       "      <td>0</td>\n",
       "      <td>0</td>\n",
       "      <td>0</td>\n",
       "      <td>0</td>\n",
       "      <td>0</td>\n",
       "      <td>0</td>\n",
       "      <td>0</td>\n",
       "      <td>0</td>\n",
       "      <td>0</td>\n",
       "    </tr>\n",
       "    <tr>\n",
       "      <th>3</th>\n",
       "      <td>10</td>\n",
       "      <td>Mexico</td>\n",
       "      <td>2018</td>\n",
       "      <td>3</td>\n",
       "      <td>27</td>\n",
       "      <td>1</td>\n",
       "      <td>12</td>\n",
       "      <td>51</td>\n",
       "      <td>10</td>\n",
       "      <td>9.3</td>\n",
       "      <td>...</td>\n",
       "      <td>0</td>\n",
       "      <td>0</td>\n",
       "      <td>0</td>\n",
       "      <td>0</td>\n",
       "      <td>0</td>\n",
       "      <td>0</td>\n",
       "      <td>0</td>\n",
       "      <td>0</td>\n",
       "      <td>0</td>\n",
       "      <td>0</td>\n",
       "    </tr>\n",
       "    <tr>\n",
       "      <th>4</th>\n",
       "      <td>10</td>\n",
       "      <td>Mexico</td>\n",
       "      <td>2017</td>\n",
       "      <td>12</td>\n",
       "      <td>1</td>\n",
       "      <td>4</td>\n",
       "      <td>14</td>\n",
       "      <td>58</td>\n",
       "      <td>10</td>\n",
       "      <td>10.6</td>\n",
       "      <td>...</td>\n",
       "      <td>0</td>\n",
       "      <td>0</td>\n",
       "      <td>0</td>\n",
       "      <td>0</td>\n",
       "      <td>0</td>\n",
       "      <td>0</td>\n",
       "      <td>0</td>\n",
       "      <td>0</td>\n",
       "      <td>0</td>\n",
       "      <td>0</td>\n",
       "    </tr>\n",
       "  </tbody>\n",
       "</table>\n",
       "<p>5 rows × 21 columns</p>\n",
       "</div>"
      ],
      "text/plain": [
       "   category_id country  p_year  p_month  p_day  p_weekday  p_time  title_len  \\\n",
       "0           17  Mexico    2018        2      1          3      19         68   \n",
       "1           17  Mexico    2018        3      8          3      20         75   \n",
       "2           17  Mexico    2018        5      6          6       6         99   \n",
       "3           10  Mexico    2018        3     27          1      12         51   \n",
       "4           10  Mexico    2017       12      1          4      14         58   \n",
       "\n",
       "   channel_title_len  views_log  ...  vs  video  parte  completo  capitulo  \\\n",
       "0                 18        8.7  ...   0      0      0         0         0   \n",
       "1                 18        8.6  ...   0      0      0         0         0   \n",
       "2                 13        9.2  ...   0      0      0         0         0   \n",
       "3                 10        9.3  ...   0      0      0         0         0   \n",
       "4                 10       10.6  ...   0      0      0         0         0   \n",
       "\n",
       "   hd  programa  hoy  official  vivo  \n",
       "0   0         0    0         0     0  \n",
       "1   0         0    0         0     0  \n",
       "2   0         0    0         0     0  \n",
       "3   0         0    0         0     0  \n",
       "4   0         0    0         0     0  \n",
       "\n",
       "[5 rows x 21 columns]"
      ]
     },
     "execution_count": 32,
     "metadata": {},
     "output_type": "execute_result"
    }
   ],
   "source": [
    "df1.head()"
   ]
  },
  {
   "cell_type": "code",
   "execution_count": 33,
   "metadata": {},
   "outputs": [],
   "source": [
    "#Prepocessing : Changing country to 0 and 1 "
   ]
  },
  {
   "cell_type": "code",
   "execution_count": 34,
   "metadata": {},
   "outputs": [],
   "source": [
    "enc = preprocessing.LabelEncoder()\n",
    "enc = enc.fit(df1['country'])\n",
    "df1['country'] = enc.transform(df1['country'])"
   ]
  },
  {
   "cell_type": "code",
   "execution_count": 35,
   "metadata": {},
   "outputs": [
    {
     "data": {
      "text/html": [
       "<div>\n",
       "<style scoped>\n",
       "    .dataframe tbody tr th:only-of-type {\n",
       "        vertical-align: middle;\n",
       "    }\n",
       "\n",
       "    .dataframe tbody tr th {\n",
       "        vertical-align: top;\n",
       "    }\n",
       "\n",
       "    .dataframe thead th {\n",
       "        text-align: right;\n",
       "    }\n",
       "</style>\n",
       "<table border=\"1\" class=\"dataframe\">\n",
       "  <thead>\n",
       "    <tr style=\"text-align: right;\">\n",
       "      <th></th>\n",
       "      <th>category_id</th>\n",
       "      <th>country</th>\n",
       "      <th>p_year</th>\n",
       "      <th>p_month</th>\n",
       "      <th>p_day</th>\n",
       "      <th>p_weekday</th>\n",
       "      <th>p_time</th>\n",
       "      <th>title_len</th>\n",
       "      <th>channel_title_len</th>\n",
       "      <th>views_log</th>\n",
       "      <th>...</th>\n",
       "      <th>vs</th>\n",
       "      <th>video</th>\n",
       "      <th>parte</th>\n",
       "      <th>completo</th>\n",
       "      <th>capitulo</th>\n",
       "      <th>hd</th>\n",
       "      <th>programa</th>\n",
       "      <th>hoy</th>\n",
       "      <th>official</th>\n",
       "      <th>vivo</th>\n",
       "    </tr>\n",
       "  </thead>\n",
       "  <tbody>\n",
       "    <tr>\n",
       "      <th>0</th>\n",
       "      <td>17</td>\n",
       "      <td>0</td>\n",
       "      <td>2018</td>\n",
       "      <td>2</td>\n",
       "      <td>1</td>\n",
       "      <td>3</td>\n",
       "      <td>19</td>\n",
       "      <td>68</td>\n",
       "      <td>18</td>\n",
       "      <td>8.7</td>\n",
       "      <td>...</td>\n",
       "      <td>0</td>\n",
       "      <td>0</td>\n",
       "      <td>0</td>\n",
       "      <td>0</td>\n",
       "      <td>0</td>\n",
       "      <td>0</td>\n",
       "      <td>0</td>\n",
       "      <td>0</td>\n",
       "      <td>0</td>\n",
       "      <td>0</td>\n",
       "    </tr>\n",
       "    <tr>\n",
       "      <th>1</th>\n",
       "      <td>17</td>\n",
       "      <td>0</td>\n",
       "      <td>2018</td>\n",
       "      <td>3</td>\n",
       "      <td>8</td>\n",
       "      <td>3</td>\n",
       "      <td>20</td>\n",
       "      <td>75</td>\n",
       "      <td>18</td>\n",
       "      <td>8.6</td>\n",
       "      <td>...</td>\n",
       "      <td>0</td>\n",
       "      <td>0</td>\n",
       "      <td>0</td>\n",
       "      <td>0</td>\n",
       "      <td>0</td>\n",
       "      <td>0</td>\n",
       "      <td>0</td>\n",
       "      <td>0</td>\n",
       "      <td>0</td>\n",
       "      <td>0</td>\n",
       "    </tr>\n",
       "    <tr>\n",
       "      <th>2</th>\n",
       "      <td>17</td>\n",
       "      <td>0</td>\n",
       "      <td>2018</td>\n",
       "      <td>5</td>\n",
       "      <td>6</td>\n",
       "      <td>6</td>\n",
       "      <td>6</td>\n",
       "      <td>99</td>\n",
       "      <td>13</td>\n",
       "      <td>9.2</td>\n",
       "      <td>...</td>\n",
       "      <td>0</td>\n",
       "      <td>0</td>\n",
       "      <td>0</td>\n",
       "      <td>0</td>\n",
       "      <td>0</td>\n",
       "      <td>0</td>\n",
       "      <td>0</td>\n",
       "      <td>0</td>\n",
       "      <td>0</td>\n",
       "      <td>0</td>\n",
       "    </tr>\n",
       "    <tr>\n",
       "      <th>3</th>\n",
       "      <td>10</td>\n",
       "      <td>0</td>\n",
       "      <td>2018</td>\n",
       "      <td>3</td>\n",
       "      <td>27</td>\n",
       "      <td>1</td>\n",
       "      <td>12</td>\n",
       "      <td>51</td>\n",
       "      <td>10</td>\n",
       "      <td>9.3</td>\n",
       "      <td>...</td>\n",
       "      <td>0</td>\n",
       "      <td>0</td>\n",
       "      <td>0</td>\n",
       "      <td>0</td>\n",
       "      <td>0</td>\n",
       "      <td>0</td>\n",
       "      <td>0</td>\n",
       "      <td>0</td>\n",
       "      <td>0</td>\n",
       "      <td>0</td>\n",
       "    </tr>\n",
       "    <tr>\n",
       "      <th>4</th>\n",
       "      <td>10</td>\n",
       "      <td>0</td>\n",
       "      <td>2017</td>\n",
       "      <td>12</td>\n",
       "      <td>1</td>\n",
       "      <td>4</td>\n",
       "      <td>14</td>\n",
       "      <td>58</td>\n",
       "      <td>10</td>\n",
       "      <td>10.6</td>\n",
       "      <td>...</td>\n",
       "      <td>0</td>\n",
       "      <td>0</td>\n",
       "      <td>0</td>\n",
       "      <td>0</td>\n",
       "      <td>0</td>\n",
       "      <td>0</td>\n",
       "      <td>0</td>\n",
       "      <td>0</td>\n",
       "      <td>0</td>\n",
       "      <td>0</td>\n",
       "    </tr>\n",
       "  </tbody>\n",
       "</table>\n",
       "<p>5 rows × 21 columns</p>\n",
       "</div>"
      ],
      "text/plain": [
       "   category_id  country  p_year  p_month  p_day  p_weekday  p_time  title_len  \\\n",
       "0           17        0    2018        2      1          3      19         68   \n",
       "1           17        0    2018        3      8          3      20         75   \n",
       "2           17        0    2018        5      6          6       6         99   \n",
       "3           10        0    2018        3     27          1      12         51   \n",
       "4           10        0    2017       12      1          4      14         58   \n",
       "\n",
       "   channel_title_len  views_log  ...  vs  video  parte  completo  capitulo  \\\n",
       "0                 18        8.7  ...   0      0      0         0         0   \n",
       "1                 18        8.6  ...   0      0      0         0         0   \n",
       "2                 13        9.2  ...   0      0      0         0         0   \n",
       "3                 10        9.3  ...   0      0      0         0         0   \n",
       "4                 10       10.6  ...   0      0      0         0         0   \n",
       "\n",
       "   hd  programa  hoy  official  vivo  \n",
       "0   0         0    0         0     0  \n",
       "1   0         0    0         0     0  \n",
       "2   0         0    0         0     0  \n",
       "3   0         0    0         0     0  \n",
       "4   0         0    0         0     0  \n",
       "\n",
       "[5 rows x 21 columns]"
      ]
     },
     "execution_count": 35,
     "metadata": {},
     "output_type": "execute_result"
    }
   ],
   "source": [
    "df1.head()"
   ]
  },
  {
   "cell_type": "code",
   "execution_count": null,
   "metadata": {},
   "outputs": [],
   "source": []
  },
  {
   "cell_type": "code",
   "execution_count": null,
   "metadata": {},
   "outputs": [],
   "source": []
  },
  {
   "cell_type": "markdown",
   "metadata": {},
   "source": [
    "## Clustering#######"
   ]
  },
  {
   "cell_type": "code",
   "execution_count": 36,
   "metadata": {},
   "outputs": [],
   "source": [
    "df_cluster=df1[['views_log','En_log']] # cluster with 2 features only "
   ]
  },
  {
   "cell_type": "code",
   "execution_count": 37,
   "metadata": {},
   "outputs": [],
   "source": [
    "#KMeans elbow method to check for optimal K\n",
    "inertia = []\n",
    "K = range(1,10)\n",
    "for k in K:\n",
    "    kmeans = KMeans(n_clusters=k)\n",
    "    kmeans.fit(df_cluster)\n",
    "    inertia.append(kmeans.inertia_)"
   ]
  },
  {
   "cell_type": "code",
   "execution_count": 38,
   "metadata": {},
   "outputs": [
    {
     "data": {
      "text/plain": [
       "Text(0.5, 1.0, 'The Elbow Method showing the optimal k')"
      ]
     },
     "execution_count": 38,
     "metadata": {},
     "output_type": "execute_result"
    },
    {
     "data": {
      "image/png": "[encoded data removed]",
      "text/plain": [
       "<Figure size 720x432 with 1 Axes>"
      ]
     },
     "metadata": {
      "needs_background": "light"
     },
     "output_type": "display_data"
    }
   ],
   "source": [
    "plt.figure(figsize=(10,6))\n",
    "plt.plot(K, inertia, 'bx-')\n",
    "plt.xlabel('k')\n",
    "plt.ylabel('Inertia')\n",
    "plt.title('The Elbow Method showing the optimal k')"
   ]
  },
  {
   "cell_type": "code",
   "execution_count": 39,
   "metadata": {},
   "outputs": [],
   "source": [
    "kmeans3= KMeans(n_clusters=3, random_state=0).fit(df_cluster)\n",
    "pop_class3 = kmeans3.predict(df_cluster)\n",
    "centers3 = kmeans3.cluster_centers_\n",
    "\n",
    "#kmeans4 = KMeans(n_clusters=4, random_state=0).fit(df_cluster)\n",
    "#pop_class4 = kmeans4.predict(df_cluster)\n",
    "#centers4 = kmeans4.cluster_centers_\n",
    "\n",
    "#kmeans5 = KMeans(n_clusters=5, random_state=0).fit(df_cluster)\n",
    "#pop_class5 = kmeans5.predict(df_cluster)\n",
    "#centers5 = kmeans5.cluster_centers_"
   ]
  },
  {
   "cell_type": "code",
   "execution_count": 40,
   "metadata": {},
   "outputs": [],
   "source": [
    "df1['pop_class3']=pop_class3\n",
    "#df['pop_class4']=pop_class4\n",
    "#df['pop_class5']=pop_class5\n",
    "\n",
    "#pop_class4 and 5 make the classes even more unbalanced. Delet pop_class4 and 5 later"
   ]
  },
  {
   "cell_type": "code",
   "execution_count": 41,
   "metadata": {},
   "outputs": [
    {
     "data": {
      "image/png": "[encoded data removed]",
      "text/plain": [
       "<Figure size 1296x432 with 1 Axes>"
      ]
     },
     "metadata": {
      "needs_background": "light"
     },
     "output_type": "display_data"
    }
   ],
   "source": [
    "fig, ax = plt.subplots(figsize=(18,6))\n",
    "ax.scatter(df1['views_log'],df1['En_log'], c=pop_class3, cmap='viridis', s=13)\n",
    "ax.scatter(centers3[:, 0], centers3[:, 1], c='red', s=200, alpha=0.5)\n",
    "#plt.colorbar(sc)\n",
    "plt.xlabel(\"Log Views\")\n",
    "plt.ylabel(\"Log Engagement (En)\")\n",
    "\n",
    "\n",
    "y=centers3[:,1]\n",
    "x=centers3[:,0]\n",
    "n = ['class0','class1', 'class2']\n",
    "\n",
    "for i, txt in enumerate(n):\n",
    "    ax.annotate(txt, (x[i]+0.2, y[i]+0.3), fontsize=15, color='r')"
   ]
  },
  {
   "cell_type": "code",
   "execution_count": 172,
   "metadata": {},
   "outputs": [
    {
     "data": {
      "text/html": [
       "<div>\n",
       "<style scoped>\n",
       "    .dataframe tbody tr th:only-of-type {\n",
       "        vertical-align: middle;\n",
       "    }\n",
       "\n",
       "    .dataframe tbody tr th {\n",
       "        vertical-align: top;\n",
       "    }\n",
       "\n",
       "    .dataframe thead th {\n",
       "        text-align: right;\n",
       "    }\n",
       "</style>\n",
       "<table border=\"1\" class=\"dataframe\">\n",
       "  <thead>\n",
       "    <tr style=\"text-align: right;\">\n",
       "      <th></th>\n",
       "      <th>category_id</th>\n",
       "    </tr>\n",
       "    <tr>\n",
       "      <th>pop_class3</th>\n",
       "      <th></th>\n",
       "    </tr>\n",
       "  </thead>\n",
       "  <tbody>\n",
       "    <tr>\n",
       "      <th>0</th>\n",
       "      <td>9077</td>\n",
       "    </tr>\n",
       "    <tr>\n",
       "      <th>1</th>\n",
       "      <td>13949</td>\n",
       "    </tr>\n",
       "    <tr>\n",
       "      <th>2</th>\n",
       "      <td>12126</td>\n",
       "    </tr>\n",
       "  </tbody>\n",
       "</table>\n",
       "</div>"
      ],
      "text/plain": [
       "            category_id\n",
       "pop_class3             \n",
       "0                  9077\n",
       "1                 13949\n",
       "2                 12126"
      ]
     },
     "execution_count": 172,
     "metadata": {},
     "output_type": "execute_result"
    }
   ],
   "source": [
    "class_distribution=pd.DataFrame(df1.groupby(['pop_class3'])['category_id'].count())\n",
    "class_distribution"
   ]
  },
  {
   "cell_type": "markdown",
   "metadata": {},
   "source": [
    "1. class 0 - views from 1.2M (e14 = 1202604.2841648) and onwards\n",
    "2. class 1 - views from 0.2M (e12 = 162754.791419) to under 1.2M \n",
    "3. class 2 - views under 0.2M \n",
    "\n",
    "1. class 0 - engagement Score (En)is with class 0 videos around 60K and onwards {likes/dislikes/2*cc (e11 = 59874.141715198)}\n",
    "2. class 1 - engagement score (En) is within 2900 to under 60K (e8 = 2980.9579870417 to e11)\n",
    "3. class 2 - engagement score (End is within 0 to less then 2900 \n",
    "\n",
    "Commentary:\n",
    "Majority of the videos are in class 1 as can be seen by above table i.e. most videos from 2017/2018 got views between (0.2M and 1.2M) and En between 2900 and 60K \n"
   ]
  },
  {
   "cell_type": "code",
   "execution_count": 63,
   "metadata": {},
   "outputs": [],
   "source": [
    "df1.drop(['views_log','En_log'], axis=1, inplace=True)"
   ]
  },
  {
   "cell_type": "code",
   "execution_count": 168,
   "metadata": {},
   "outputs": [],
   "source": [
    "#df1.head()"
   ]
  },
  {
   "cell_type": "code",
   "execution_count": null,
   "metadata": {},
   "outputs": [],
   "source": []
  },
  {
   "cell_type": "markdown",
   "metadata": {},
   "source": [
    "### Classification  with imbalanced class data"
   ]
  },
  {
   "cell_type": "code",
   "execution_count": 66,
   "metadata": {},
   "outputs": [],
   "source": [
    "import imblearn\n",
    "from imblearn.over_sampling import SMOTE"
   ]
  },
  {
   "cell_type": "code",
   "execution_count": 67,
   "metadata": {},
   "outputs": [],
   "source": [
    "X=df1.drop(['pop_class3'], axis=1)"
   ]
  },
  {
   "cell_type": "code",
   "execution_count": 68,
   "metadata": {},
   "outputs": [],
   "source": [
    "y=df1['pop_class3']"
   ]
  },
  {
   "cell_type": "code",
   "execution_count": 69,
   "metadata": {},
   "outputs": [
    {
     "data": {
      "text/plain": [
       "Counter({2: 12126, 0: 9077, 1: 13949})"
      ]
     },
     "execution_count": 69,
     "metadata": {},
     "output_type": "execute_result"
    }
   ],
   "source": [
    "# see the distributions of the classes before SMOTE (Synthetic Minority Oversampling Technique)\n",
    "counter = Counter(y)\n",
    "counter"
   ]
  },
  {
   "cell_type": "code",
   "execution_count": 70,
   "metadata": {},
   "outputs": [],
   "source": [
    "X_train,X_test, y_train, y_test =train_test_split(X,y, random_state=0)"
   ]
  },
  {
   "cell_type": "code",
   "execution_count": 71,
   "metadata": {},
   "outputs": [],
   "source": [
    "# transform the dataset\n",
    "oversample = SMOTE()\n",
    "X_train, y_train = oversample.fit_resample(X_train, y_train)"
   ]
  },
  {
   "cell_type": "code",
   "execution_count": 72,
   "metadata": {},
   "outputs": [
    {
     "data": {
      "text/plain": [
       "Counter({0: 10453, 2: 10453, 1: 10453})"
      ]
     },
     "execution_count": 72,
     "metadata": {},
     "output_type": "execute_result"
    }
   ],
   "source": [
    "# see the distributions of the classes after SMOTE\n",
    "counter = Counter(y_train)\n",
    "counter"
   ]
  },
  {
   "cell_type": "code",
   "execution_count": 73,
   "metadata": {},
   "outputs": [],
   "source": [
    "#X_train and y_train are ready for classification training"
   ]
  },
  {
   "cell_type": "markdown",
   "metadata": {},
   "source": [
    "## KNN"
   ]
  },
  {
   "cell_type": "code",
   "execution_count": 74,
   "metadata": {},
   "outputs": [],
   "source": [
    "param_grid={'n_neighbors': np.arange(1,50)}\n",
    "\n",
    "knn=KNeighborsClassifier()\n",
    "\n",
    "knn_cv=GridSearchCV(knn,param_grid)\n",
    "\n",
    "knn_cv.fit(X_train, y_train)\n",
    "\n",
    "y_pred_knn=knn_cv.predict(X_test)"
   ]
  },
  {
   "cell_type": "code",
   "execution_count": 75,
   "metadata": {},
   "outputs": [
    {
     "data": {
      "text/plain": [
       "(0.5875544141073747, {'n_neighbors': 1}, KNeighborsClassifier(n_neighbors=1))"
      ]
     },
     "execution_count": 75,
     "metadata": {},
     "output_type": "execute_result"
    }
   ],
   "source": [
    "knn_cv.best_score_, knn_cv.best_params_, knn_cv.best_estimator_"
   ]
  },
  {
   "cell_type": "code",
   "execution_count": 173,
   "metadata": {},
   "outputs": [
    {
     "data": {
      "image/png": "[encoded data removed]",
      "text/plain": [
       "<Figure size 432x288 with 2 Axes>"
      ]
     },
     "metadata": {},
     "output_type": "display_data"
    }
   ],
   "source": [
    "confusion(y_test, y_pred_knn, \"KNN\")"
   ]
  },
  {
   "cell_type": "code",
   "execution_count": 149,
   "metadata": {},
   "outputs": [
    {
     "data": {
      "text/html": [
       "<style  type=\"text/css\" >\n",
       "</style><table id=\"T_edbd25ba_c927_11ea_8771_1c4d70d8023d\" ><caption>Precision-Recall -KNN</caption><thead>    <tr>        <th class=\"blank level0\" ></th>        <th class=\"col_heading level0 col0\" >precision</th>        <th class=\"col_heading level0 col1\" >recall</th>        <th class=\"col_heading level0 col2\" >f-score</th>        <th class=\"col_heading level0 col3\" >sample_size</th>    </tr></thead><tbody>\n",
       "                <tr>\n",
       "                        <th id=\"T_edbd25ba_c927_11ea_8771_1c4d70d8023dlevel0_row0\" class=\"row_heading level0 row0\" >0</th>\n",
       "                        <td id=\"T_edbd25ba_c927_11ea_8771_1c4d70d8023drow0_col0\" class=\"data row0 col0\" >0.4</td>\n",
       "                        <td id=\"T_edbd25ba_c927_11ea_8771_1c4d70d8023drow0_col1\" class=\"data row0 col1\" >0.43</td>\n",
       "                        <td id=\"T_edbd25ba_c927_11ea_8771_1c4d70d8023drow0_col2\" class=\"data row0 col2\" >0.41</td>\n",
       "                        <td id=\"T_edbd25ba_c927_11ea_8771_1c4d70d8023drow0_col3\" class=\"data row0 col3\" >2267</td>\n",
       "            </tr>\n",
       "            <tr>\n",
       "                        <th id=\"T_edbd25ba_c927_11ea_8771_1c4d70d8023dlevel0_row1\" class=\"row_heading level0 row1\" >1</th>\n",
       "                        <td id=\"T_edbd25ba_c927_11ea_8771_1c4d70d8023drow1_col0\" class=\"data row1 col0\" >0.46</td>\n",
       "                        <td id=\"T_edbd25ba_c927_11ea_8771_1c4d70d8023drow1_col1\" class=\"data row1 col1\" >0.44</td>\n",
       "                        <td id=\"T_edbd25ba_c927_11ea_8771_1c4d70d8023drow1_col2\" class=\"data row1 col2\" >0.45</td>\n",
       "                        <td id=\"T_edbd25ba_c927_11ea_8771_1c4d70d8023drow1_col3\" class=\"data row1 col3\" >3496</td>\n",
       "            </tr>\n",
       "            <tr>\n",
       "                        <th id=\"T_edbd25ba_c927_11ea_8771_1c4d70d8023dlevel0_row2\" class=\"row_heading level0 row2\" >2</th>\n",
       "                        <td id=\"T_edbd25ba_c927_11ea_8771_1c4d70d8023drow2_col0\" class=\"data row2 col0\" >0.46</td>\n",
       "                        <td id=\"T_edbd25ba_c927_11ea_8771_1c4d70d8023drow2_col1\" class=\"data row2 col1\" >0.46</td>\n",
       "                        <td id=\"T_edbd25ba_c927_11ea_8771_1c4d70d8023drow2_col2\" class=\"data row2 col2\" >0.46</td>\n",
       "                        <td id=\"T_edbd25ba_c927_11ea_8771_1c4d70d8023drow2_col3\" class=\"data row2 col3\" >3025</td>\n",
       "            </tr>\n",
       "    </tbody></table>"
      ],
      "text/plain": [
       "<pandas.io.formats.style.Styler at 0x21177c4c208>"
      ]
     },
     "execution_count": 149,
     "metadata": {},
     "output_type": "execute_result"
    }
   ],
   "source": [
    "prec_re(y_test, y_pred_knn, 'KNN')"
   ]
  },
  {
   "cell_type": "markdown",
   "metadata": {},
   "source": [
    "## Random Forest"
   ]
  },
  {
   "cell_type": "code",
   "execution_count": 105,
   "metadata": {},
   "outputs": [],
   "source": [
    "param_grid = [\n",
    "    {\n",
    "    'n_estimators' : list(range(10,101,10)),\n",
    "    'max_features': list(range(4,8,2)), \n",
    "    'max_depth'    : [2, 3, 5, 10, 20],\n",
    "    } \n",
    "]\n",
    "\n",
    "RF=RandomForestClassifier()\n",
    "RF_cv=GridSearchCV(RF, param_grid, cv=5)\n",
    "RF_cv.fit(X_train, y_train)\n",
    "\n",
    "y_pred_RF=RF_cv.predict(X_test)\n"
   ]
  },
  {
   "cell_type": "code",
   "execution_count": 106,
   "metadata": {},
   "outputs": [
    {
     "data": {
      "text/plain": [
       "(0.6402948287631111,\n",
       " RandomForestClassifier(max_depth=20, max_features=6),\n",
       " {'max_depth': 20, 'max_features': 6, 'n_estimators': 100})"
      ]
     },
     "execution_count": 106,
     "metadata": {},
     "output_type": "execute_result"
    }
   ],
   "source": [
    "RF_cv.best_score_, RF_cv.best_estimator_, RF_cv.best_params_"
   ]
  },
  {
   "cell_type": "code",
   "execution_count": 158,
   "metadata": {},
   "outputs": [
    {
     "data": {
      "image/png": "[encoded data removed]",
      "text/plain": [
       "<Figure size 432x288 with 2 Axes>"
      ]
     },
     "metadata": {},
     "output_type": "display_data"
    }
   ],
   "source": [
    "confusion(y_test, y_pred_RF, \"Random Forest\")"
   ]
  },
  {
   "cell_type": "code",
   "execution_count": 109,
   "metadata": {},
   "outputs": [
    {
     "data": {
      "image/png": "[encoded data removed]",
      "text/plain": [
       "<Figure size 576x360 with 1 Axes>"
      ]
     },
     "metadata": {},
     "output_type": "display_data"
    }
   ],
   "source": [
    "#Feature Importance (RF)\n",
    "fig, axes=plt.subplots(1,1, figsize=(8,5))\n",
    "feature_importance(RF_cv.best_estimator_, axes, 'RF_cv')\n",
    "plt.tight_layout()"
   ]
  },
  {
   "cell_type": "code",
   "execution_count": 167,
   "metadata": {},
   "outputs": [
    {
     "data": {
      "text/html": [
       "<style  type=\"text/css\" >\n",
       "</style><table id=\"T_49ff31b8_c92a_11ea_9663_1c4d70d8023d\" ><caption>Precision-Recall -Random Forest</caption><thead>    <tr>        <th class=\"blank level0\" ></th>        <th class=\"col_heading level0 col0\" >precision</th>        <th class=\"col_heading level0 col1\" >recall</th>        <th class=\"col_heading level0 col2\" >f-score</th>        <th class=\"col_heading level0 col3\" >sample_size</th>    </tr></thead><tbody>\n",
       "                <tr>\n",
       "                        <th id=\"T_49ff31b8_c92a_11ea_9663_1c4d70d8023dlevel0_row0\" class=\"row_heading level0 row0\" >0</th>\n",
       "                        <td id=\"T_49ff31b8_c92a_11ea_9663_1c4d70d8023drow0_col0\" class=\"data row0 col0\" >0.6</td>\n",
       "                        <td id=\"T_49ff31b8_c92a_11ea_9663_1c4d70d8023drow0_col1\" class=\"data row0 col1\" >0.67</td>\n",
       "                        <td id=\"T_49ff31b8_c92a_11ea_9663_1c4d70d8023drow0_col2\" class=\"data row0 col2\" >0.63</td>\n",
       "                        <td id=\"T_49ff31b8_c92a_11ea_9663_1c4d70d8023drow0_col3\" class=\"data row0 col3\" >2267</td>\n",
       "            </tr>\n",
       "            <tr>\n",
       "                        <th id=\"T_49ff31b8_c92a_11ea_9663_1c4d70d8023dlevel0_row1\" class=\"row_heading level0 row1\" >1</th>\n",
       "                        <td id=\"T_49ff31b8_c92a_11ea_9663_1c4d70d8023drow1_col0\" class=\"data row1 col0\" >0.59</td>\n",
       "                        <td id=\"T_49ff31b8_c92a_11ea_9663_1c4d70d8023drow1_col1\" class=\"data row1 col1\" >0.51</td>\n",
       "                        <td id=\"T_49ff31b8_c92a_11ea_9663_1c4d70d8023drow1_col2\" class=\"data row1 col2\" >0.55</td>\n",
       "                        <td id=\"T_49ff31b8_c92a_11ea_9663_1c4d70d8023drow1_col3\" class=\"data row1 col3\" >3496</td>\n",
       "            </tr>\n",
       "            <tr>\n",
       "                        <th id=\"T_49ff31b8_c92a_11ea_9663_1c4d70d8023dlevel0_row2\" class=\"row_heading level0 row2\" >2</th>\n",
       "                        <td id=\"T_49ff31b8_c92a_11ea_9663_1c4d70d8023drow2_col0\" class=\"data row2 col0\" >0.61</td>\n",
       "                        <td id=\"T_49ff31b8_c92a_11ea_9663_1c4d70d8023drow2_col1\" class=\"data row2 col1\" >0.64</td>\n",
       "                        <td id=\"T_49ff31b8_c92a_11ea_9663_1c4d70d8023drow2_col2\" class=\"data row2 col2\" >0.63</td>\n",
       "                        <td id=\"T_49ff31b8_c92a_11ea_9663_1c4d70d8023drow2_col3\" class=\"data row2 col3\" >3025</td>\n",
       "            </tr>\n",
       "    </tbody></table>"
      ],
      "text/plain": [
       "<pandas.io.formats.style.Styler at 0x21177547a88>"
      ]
     },
     "execution_count": 167,
     "metadata": {},
     "output_type": "execute_result"
    }
   ],
   "source": [
    "prec_re(y_test, y_pred_RF, 'Random Forest')"
   ]
  },
  {
   "cell_type": "markdown",
   "metadata": {},
   "source": [
    "### Notes on Precision/Recall/Fscore/SS\n",
    "\n",
    "#Compute precision, recall, F-Score and support for each class\n",
    "\n",
    "#Precision quantifies the number of positive class predictions that actually belong to the positive class. \n",
    "#Recall quantifies the number of positive class predictions made out of all positive examples in the dataset. \n",
    "#F-Score provides a single score that balances both the concerns of precision and recall in one number\n",
    "\n",
    "#Precision talks about how precise/accurate your model is out of those predicted positive,how many of them are actual positive."
   ]
  },
  {
   "cell_type": "markdown",
   "metadata": {},
   "source": [
    "## Gradient Boost"
   ]
  },
  {
   "cell_type": "code",
   "execution_count": 95,
   "metadata": {},
   "outputs": [],
   "source": [
    "param_grid=[{'n_estimators':list(range(20,100,10))}]\n",
    "gb=GradientBoostingClassifier()\n",
    "\n",
    "gb_cv=GridSearchCV(gb,param_grid)\n",
    "gb_cv.fit(X_train, y_train)\n",
    "\n",
    "y_pred_gb=gb_cv.predict(X_test)"
   ]
  },
  {
   "cell_type": "code",
   "execution_count": 175,
   "metadata": {},
   "outputs": [
    {
     "data": {
      "text/plain": [
       "(0.549602458189463, {'n_estimators': 90})"
      ]
     },
     "execution_count": 175,
     "metadata": {},
     "output_type": "execute_result"
    }
   ],
   "source": [
    "gb_cv.best_score_, gb_cv.best_params_ "
   ]
  },
  {
   "cell_type": "code",
   "execution_count": 203,
   "metadata": {},
   "outputs": [
    {
     "data": {
      "image/png": "[encoded data removed]",
      "text/plain": [
       "<Figure size 576x360 with 1 Axes>"
      ]
     },
     "metadata": {},
     "output_type": "display_data"
    }
   ],
   "source": [
    "#Feature Importance (GB)\n",
    "fig, axes=plt.subplots(1,1, figsize=(8,5))\n",
    "feature_importance(gb_cv.best_estimator_, axes, 'GB_cv')\n",
    "plt.tight_layout()"
   ]
  },
  {
   "cell_type": "code",
   "execution_count": 159,
   "metadata": {},
   "outputs": [
    {
     "data": {
      "image/png": "[encoded data removed]",
      "text/plain": [
       "<Figure size 432x288 with 2 Axes>"
      ]
     },
     "metadata": {},
     "output_type": "display_data"
    }
   ],
   "source": [
    "confusion(y_test, y_pred_gb, \"Gradient Boost\")"
   ]
  },
  {
   "cell_type": "code",
   "execution_count": 151,
   "metadata": {},
   "outputs": [
    {
     "data": {
      "text/html": [
       "<style  type=\"text/css\" >\n",
       "</style><table id=\"T_3e12a102_c928_11ea_a9c8_1c4d70d8023d\" ><caption>Precision-Recall -Gradient Boost</caption><thead>    <tr>        <th class=\"blank level0\" ></th>        <th class=\"col_heading level0 col0\" >precision</th>        <th class=\"col_heading level0 col1\" >recall</th>        <th class=\"col_heading level0 col2\" >f-score</th>        <th class=\"col_heading level0 col3\" >sample_size</th>    </tr></thead><tbody>\n",
       "                <tr>\n",
       "                        <th id=\"T_3e12a102_c928_11ea_a9c8_1c4d70d8023dlevel0_row0\" class=\"row_heading level0 row0\" >0</th>\n",
       "                        <td id=\"T_3e12a102_c928_11ea_a9c8_1c4d70d8023drow0_col0\" class=\"data row0 col0\" >0.53</td>\n",
       "                        <td id=\"T_3e12a102_c928_11ea_a9c8_1c4d70d8023drow0_col1\" class=\"data row0 col1\" >0.66</td>\n",
       "                        <td id=\"T_3e12a102_c928_11ea_a9c8_1c4d70d8023drow0_col2\" class=\"data row0 col2\" >0.59</td>\n",
       "                        <td id=\"T_3e12a102_c928_11ea_a9c8_1c4d70d8023drow0_col3\" class=\"data row0 col3\" >2267</td>\n",
       "            </tr>\n",
       "            <tr>\n",
       "                        <th id=\"T_3e12a102_c928_11ea_a9c8_1c4d70d8023dlevel0_row1\" class=\"row_heading level0 row1\" >1</th>\n",
       "                        <td id=\"T_3e12a102_c928_11ea_a9c8_1c4d70d8023drow1_col0\" class=\"data row1 col0\" >0.54</td>\n",
       "                        <td id=\"T_3e12a102_c928_11ea_a9c8_1c4d70d8023drow1_col1\" class=\"data row1 col1\" >0.37</td>\n",
       "                        <td id=\"T_3e12a102_c928_11ea_a9c8_1c4d70d8023drow1_col2\" class=\"data row1 col2\" >0.44</td>\n",
       "                        <td id=\"T_3e12a102_c928_11ea_a9c8_1c4d70d8023drow1_col3\" class=\"data row1 col3\" >3496</td>\n",
       "            </tr>\n",
       "            <tr>\n",
       "                        <th id=\"T_3e12a102_c928_11ea_a9c8_1c4d70d8023dlevel0_row2\" class=\"row_heading level0 row2\" >2</th>\n",
       "                        <td id=\"T_3e12a102_c928_11ea_a9c8_1c4d70d8023drow2_col0\" class=\"data row2 col0\" >0.54</td>\n",
       "                        <td id=\"T_3e12a102_c928_11ea_a9c8_1c4d70d8023drow2_col1\" class=\"data row2 col1\" >0.65</td>\n",
       "                        <td id=\"T_3e12a102_c928_11ea_a9c8_1c4d70d8023drow2_col2\" class=\"data row2 col2\" >0.59</td>\n",
       "                        <td id=\"T_3e12a102_c928_11ea_a9c8_1c4d70d8023drow2_col3\" class=\"data row2 col3\" >3025</td>\n",
       "            </tr>\n",
       "    </tbody></table>"
      ],
      "text/plain": [
       "<pandas.io.formats.style.Styler at 0x21177c50488>"
      ]
     },
     "execution_count": 151,
     "metadata": {},
     "output_type": "execute_result"
    }
   ],
   "source": [
    "prec_re(y_test, y_pred_gb, 'Gradient Boost')"
   ]
  },
  {
   "cell_type": "markdown",
   "metadata": {},
   "source": [
    "# Accuracy_Scores:"
   ]
  },
  {
   "cell_type": "code",
   "execution_count": 177,
   "metadata": {},
   "outputs": [
    {
     "data": {
      "text/html": [
       "<div>\n",
       "<style scoped>\n",
       "    .dataframe tbody tr th:only-of-type {\n",
       "        vertical-align: middle;\n",
       "    }\n",
       "\n",
       "    .dataframe tbody tr th {\n",
       "        vertical-align: top;\n",
       "    }\n",
       "\n",
       "    .dataframe thead th {\n",
       "        text-align: right;\n",
       "    }\n",
       "</style>\n",
       "<table border=\"1\" class=\"dataframe\">\n",
       "  <thead>\n",
       "    <tr style=\"text-align: right;\">\n",
       "      <th></th>\n",
       "      <th>Model</th>\n",
       "      <th>Best_Score</th>\n",
       "    </tr>\n",
       "  </thead>\n",
       "  <tbody>\n",
       "    <tr>\n",
       "      <th>1</th>\n",
       "      <td>RandomForest</td>\n",
       "      <td>64.03</td>\n",
       "    </tr>\n",
       "    <tr>\n",
       "      <th>0</th>\n",
       "      <td>KNN</td>\n",
       "      <td>58.76</td>\n",
       "    </tr>\n",
       "    <tr>\n",
       "      <th>2</th>\n",
       "      <td>Gradient Boosting</td>\n",
       "      <td>54.96</td>\n",
       "    </tr>\n",
       "  </tbody>\n",
       "</table>\n",
       "</div>"
      ],
      "text/plain": [
       "               Model Best_Score\n",
       "1       RandomForest      64.03\n",
       "0                KNN      58.76\n",
       "2  Gradient Boosting      54.96"
      ]
     },
     "execution_count": 177,
     "metadata": {},
     "output_type": "execute_result"
    }
   ],
   "source": [
    "my_dict={'KNN':'{:.2f}'.format(knn_cv.best_score_*100), \n",
    "         \n",
    "         'RandomForest': '{:.2f}'.format(RF_cv.best_score_*100), \n",
    "         \n",
    "         'Gradient Boosting': '{:.2f}'.format(gb_cv.best_score_*100),  \n",
    "        }\n",
    "score_df=pd.DataFrame(list(my_dict.items()),\n",
    "                      columns=['Model','Best_Score'])\n",
    "score_df.sort_values(by='Best_Score', ascending=False)"
   ]
  },
  {
   "cell_type": "code",
   "execution_count": null,
   "metadata": {},
   "outputs": [],
   "source": []
  }
 ],
 "metadata": {
  "kernelspec": {
   "display_name": "Python 3",
   "language": "python",
   "name": "python3"
  },
  "language_info": {
   "codemirror_mode": {
    "name": "ipython",
    "version": 3
   },
   "file_extension": ".py",
   "mimetype": "text/x-python",
   "name": "python",
   "nbconvert_exporter": "python",
   "pygments_lexer": "ipython3",
   "version": "3.7.6"
  }
 },
 "nbformat": 4,
 "nbformat_minor": 4
}
