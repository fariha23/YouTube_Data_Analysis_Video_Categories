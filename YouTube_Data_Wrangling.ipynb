{
 "cells": [
  {
   "cell_type": "code",
   "execution_count": 1,
   "metadata": {},
   "outputs": [],
   "source": [
    "#The csv files (USvideos.csv, MXvideos.csv) are available @https://www.kaggle.com/datasnaek/youtube-new\n",
    "#The dfs are created below from two files. \n",
    "#Steps to clean data are:\n",
    "#1.Removing unnecessary columns\n",
    "#2.Adding “category_name” column\n",
    "#3.Dropping rows with NaN values\n",
    "#4.Outliers\n"
   ]
  },
  {
   "cell_type": "code",
   "execution_count": 2,
   "metadata": {},
   "outputs": [],
   "source": [
    "import pandas as pd\n",
    "import matplotlib.pyplot as plt\n",
    "import seaborn as sns\n",
    "import math\n",
    "usa_df=pd.read_csv(\"USvideos.csv\", parse_dates=[5])\n",
    "mx_df=pd.read_csv(\"MXvideos.csv\",engine='python')\n"
   ]
  },
  {
   "cell_type": "code",
   "execution_count": 3,
   "metadata": {},
   "outputs": [
    {
     "name": "stdout",
     "output_type": "stream",
     "text": [
      "<class 'pandas.core.frame.DataFrame'>\n",
      "RangeIndex: 40949 entries, 0 to 40948\n",
      "Data columns (total 16 columns):\n",
      " #   Column                  Non-Null Count  Dtype              \n",
      "---  ------                  --------------  -----              \n",
      " 0   video_id                40949 non-null  object             \n",
      " 1   trending_date           40949 non-null  object             \n",
      " 2   title                   40949 non-null  object             \n",
      " 3   channel_title           40949 non-null  object             \n",
      " 4   category_id             40949 non-null  int64              \n",
      " 5   publish_time            40949 non-null  datetime64[ns, UTC]\n",
      " 6   tags                    40949 non-null  object             \n",
      " 7   views                   40949 non-null  int64              \n",
      " 8   likes                   40949 non-null  int64              \n",
      " 9   dislikes                40949 non-null  int64              \n",
      " 10  comment_count           40949 non-null  int64              \n",
      " 11  thumbnail_link          40949 non-null  object             \n",
      " 12  comments_disabled       40949 non-null  bool               \n",
      " 13  ratings_disabled        40949 non-null  bool               \n",
      " 14  video_error_or_removed  40949 non-null  bool               \n",
      " 15  description             40379 non-null  object             \n",
      "dtypes: bool(3), datetime64[ns, UTC](1), int64(5), object(7)\n",
      "memory usage: 4.2+ MB\n"
     ]
    }
   ],
   "source": [
    "usa_df.info()"
   ]
  },
  {
   "cell_type": "code",
   "execution_count": 4,
   "metadata": {},
   "outputs": [
    {
     "name": "stdout",
     "output_type": "stream",
     "text": [
      "<class 'pandas.core.frame.DataFrame'>\n",
      "RangeIndex: 40451 entries, 0 to 40450\n",
      "Data columns (total 16 columns):\n",
      " #   Column                  Non-Null Count  Dtype \n",
      "---  ------                  --------------  ----- \n",
      " 0   video_id                40451 non-null  object\n",
      " 1   trending_date           40451 non-null  object\n",
      " 2   title                   40451 non-null  object\n",
      " 3   channel_title           40451 non-null  object\n",
      " 4   category_id             40451 non-null  int64 \n",
      " 5   publish_time            40451 non-null  object\n",
      " 6   tags                    40451 non-null  object\n",
      " 7   views                   40451 non-null  int64 \n",
      " 8   likes                   40451 non-null  int64 \n",
      " 9   dislikes                40451 non-null  int64 \n",
      " 10  comment_count           40451 non-null  int64 \n",
      " 11  thumbnail_link          40451 non-null  object\n",
      " 12  comments_disabled       40451 non-null  bool  \n",
      " 13  ratings_disabled        40451 non-null  bool  \n",
      " 14  video_error_or_removed  40451 non-null  bool  \n",
      " 15  description             36227 non-null  object\n",
      "dtypes: bool(3), int64(5), object(8)\n",
      "memory usage: 4.1+ MB\n"
     ]
    }
   ],
   "source": [
    "mx_df.info()"
   ]
  },
  {
   "cell_type": "code",
   "execution_count": 5,
   "metadata": {},
   "outputs": [],
   "source": [
    "#usa_df['category_id'].unique()"
   ]
  },
  {
   "cell_type": "code",
   "execution_count": 6,
   "metadata": {
    "scrolled": true
   },
   "outputs": [],
   "source": [
    "#The following code did run and then I saved the final dictionaries in category_mx and category_usa. The API key cannot be\n",
    "#shared as I did before and seems like someone took it and running it crazily everyday making my daily quota exceed 10K hits. \n",
    "\n",
    "\n",
    "#import requests\n",
    "#temp_category_usa={}\n",
    "#temp_category_mx={}\n",
    "\n",
    "#API_key=\n",
    "\n",
    "#url=\"https://www.googleapis.com/youtube/v3/videoCategories?part=snippet&regionCode=US&key=API_key\"\n",
    "#res=requests.get(url)\n",
    "#cat_json_usa=res.json()\n",
    "\n",
    "#url1=\"https://www.googleapis.com/youtube/v3/videoCategories?part=snippet&regionCode=MX&key=API_key\"\n",
    "#res1=requests.get(url1)\n",
    "#cat_json_mx=res1.json()\n",
    "\n",
    "\n",
    "\n",
    "#for i in range(len(cat_json_usa['items'])):\n",
    "#    temp_category_usa[cat_json_usa['items'][i]['id']]=cat_json_usa['items'][i]['snippet']['title']\n",
    "#temp_category_usa\n",
    "\n",
    "\n",
    "#for i in range(len(cat_json_mx['items'])):\n",
    "#    temp_category_mx[cat_json_mx['items'][i]['id']]=cat_json_mx['items'][i]['snippet']['title']\n",
    "#temp_category_mx\n",
    "\n",
    "#The temp_category_usa and temp_category_mx produce a dictionary with keys as strings and I need to redo that to have an integer value i.e.\n",
    "#without ' ' around the number. If it is left with '' then map command cannot match the integer value in usa_df_dropcol to string val in temp_category_mx\n",
    "#category_usa= {int(old_key): val for old_key, val in temp_category_usa.items()}\n",
    "#category_mx= {int(old_key): val for old_key, val in temp_category_mx.items()}\n",
    "\n",
    "#category_usa"
   ]
  },
  {
   "cell_type": "code",
   "execution_count": 7,
   "metadata": {},
   "outputs": [],
   "source": [
    "category_mx={1: 'Film & Animation',\n",
    " 2: 'Autos & Vehicles',\n",
    " 10: 'Music',\n",
    " 15: 'Pets & Animals',\n",
    " 17: 'Sports',\n",
    " 18: 'Short Movies',\n",
    " 19: 'Travel & Events',\n",
    " 20: 'Gaming',\n",
    " 21: 'Videoblogging',\n",
    " 22: 'People & Blogs',\n",
    " 23: 'Comedy',\n",
    " 24: 'Entertainment',\n",
    " 25: 'News & Politics',\n",
    " 26: 'Howto & Style',\n",
    " 27: 'Education',\n",
    " 28: 'Science & Technology',\n",
    " 30: 'Movies',\n",
    " 31: 'Anime/Animation',\n",
    " 32: 'Action/Adventure',\n",
    " 33: 'Classics',\n",
    " 34: 'Comedy',\n",
    " 35: 'Documentary',\n",
    " 36: 'Drama',\n",
    " 37: 'Family',\n",
    " 38: 'Foreign',\n",
    " 39: 'Horror',\n",
    " 40: 'Sci-Fi/Fantasy',\n",
    " 41: 'Thriller',\n",
    " 42: 'Shorts',\n",
    " 43: 'Shows',\n",
    " 44: 'Trailers'}\n",
    "category_usa={1: 'Film & Animation',\n",
    " 2: 'Autos & Vehicles',\n",
    " 10: 'Music',\n",
    " 15: 'Pets & Animals',\n",
    " 17: 'Sports',\n",
    " 18: 'Short Movies',\n",
    " 19: 'Travel & Events',\n",
    " 20: 'Gaming',\n",
    " 21: 'Videoblogging',\n",
    " 22: 'People & Blogs',\n",
    " 23: 'Comedy',\n",
    " 24: 'Entertainment',\n",
    " 25: 'News & Politics',\n",
    " 26: 'Howto & Style',\n",
    " 27: 'Education',\n",
    " 28: 'Science & Technology',\n",
    " 29: 'Nonprofits & Activism',\n",
    " 30: 'Movies',\n",
    " 31: 'Anime/Animation',\n",
    " 32: 'Action/Adventure',\n",
    " 33: 'Classics',\n",
    " 34: 'Comedy',\n",
    " 35: 'Documentary',\n",
    " 36: 'Drama',\n",
    " 37: 'Family',\n",
    " 38: 'Foreign',\n",
    " 39: 'Horror',\n",
    " 40: 'Sci-Fi/Fantasy',\n",
    " 41: 'Thriller',\n",
    " 42: 'Shorts',\n",
    " 43: 'Shows',\n",
    " 44: 'Trailers'}"
   ]
  },
  {
   "cell_type": "code",
   "execution_count": 8,
   "metadata": {},
   "outputs": [
    {
     "name": "stdout",
     "output_type": "stream",
     "text": [
      "False\n"
     ]
    }
   ],
   "source": [
    "print(category_usa == category_mx)"
   ]
  },
  {
   "cell_type": "code",
   "execution_count": 9,
   "metadata": {},
   "outputs": [],
   "source": [
    "usa_df_dropcol=usa_df.drop(['video_id','thumbnail_link','description','tags','channel_title'], axis=1)"
   ]
  },
  {
   "cell_type": "code",
   "execution_count": 10,
   "metadata": {},
   "outputs": [],
   "source": [
    "mx_df_dropcol=mx_df.drop(['video_id','thumbnail_link','description','tags','channel_title'], axis=1)"
   ]
  },
  {
   "cell_type": "code",
   "execution_count": 11,
   "metadata": {},
   "outputs": [
    {
     "data": {
      "text/html": [
       "<div>\n",
       "<style scoped>\n",
       "    .dataframe tbody tr th:only-of-type {\n",
       "        vertical-align: middle;\n",
       "    }\n",
       "\n",
       "    .dataframe tbody tr th {\n",
       "        vertical-align: top;\n",
       "    }\n",
       "\n",
       "    .dataframe thead th {\n",
       "        text-align: right;\n",
       "    }\n",
       "</style>\n",
       "<table border=\"1\" class=\"dataframe\">\n",
       "  <thead>\n",
       "    <tr style=\"text-align: right;\">\n",
       "      <th></th>\n",
       "      <th>trending_date</th>\n",
       "      <th>title</th>\n",
       "      <th>category_id</th>\n",
       "      <th>publish_time</th>\n",
       "      <th>views</th>\n",
       "      <th>likes</th>\n",
       "      <th>dislikes</th>\n",
       "      <th>comment_count</th>\n",
       "      <th>comments_disabled</th>\n",
       "      <th>ratings_disabled</th>\n",
       "      <th>video_error_or_removed</th>\n",
       "    </tr>\n",
       "  </thead>\n",
       "  <tbody>\n",
       "    <tr>\n",
       "      <th>0</th>\n",
       "      <td>17.14.11</td>\n",
       "      <td>WE WANT TO TALK ABOUT OUR MARRIAGE</td>\n",
       "      <td>22</td>\n",
       "      <td>2017-11-13 17:13:01+00:00</td>\n",
       "      <td>748374</td>\n",
       "      <td>57527</td>\n",
       "      <td>2966</td>\n",
       "      <td>15954</td>\n",
       "      <td>False</td>\n",
       "      <td>False</td>\n",
       "      <td>False</td>\n",
       "    </tr>\n",
       "    <tr>\n",
       "      <th>1</th>\n",
       "      <td>17.14.11</td>\n",
       "      <td>The Trump Presidency: Last Week Tonight with J...</td>\n",
       "      <td>24</td>\n",
       "      <td>2017-11-13 07:30:00+00:00</td>\n",
       "      <td>2418783</td>\n",
       "      <td>97185</td>\n",
       "      <td>6146</td>\n",
       "      <td>12703</td>\n",
       "      <td>False</td>\n",
       "      <td>False</td>\n",
       "      <td>False</td>\n",
       "    </tr>\n",
       "    <tr>\n",
       "      <th>2</th>\n",
       "      <td>17.14.11</td>\n",
       "      <td>Racist Superman | Rudy Mancuso, King Bach &amp; Le...</td>\n",
       "      <td>23</td>\n",
       "      <td>2017-11-12 19:05:24+00:00</td>\n",
       "      <td>3191434</td>\n",
       "      <td>146033</td>\n",
       "      <td>5339</td>\n",
       "      <td>8181</td>\n",
       "      <td>False</td>\n",
       "      <td>False</td>\n",
       "      <td>False</td>\n",
       "    </tr>\n",
       "    <tr>\n",
       "      <th>3</th>\n",
       "      <td>17.14.11</td>\n",
       "      <td>Nickelback Lyrics: Real or Fake?</td>\n",
       "      <td>24</td>\n",
       "      <td>2017-11-13 11:00:04+00:00</td>\n",
       "      <td>343168</td>\n",
       "      <td>10172</td>\n",
       "      <td>666</td>\n",
       "      <td>2146</td>\n",
       "      <td>False</td>\n",
       "      <td>False</td>\n",
       "      <td>False</td>\n",
       "    </tr>\n",
       "    <tr>\n",
       "      <th>4</th>\n",
       "      <td>17.14.11</td>\n",
       "      <td>I Dare You: GOING BALD!?</td>\n",
       "      <td>24</td>\n",
       "      <td>2017-11-12 18:01:41+00:00</td>\n",
       "      <td>2095731</td>\n",
       "      <td>132235</td>\n",
       "      <td>1989</td>\n",
       "      <td>17518</td>\n",
       "      <td>False</td>\n",
       "      <td>False</td>\n",
       "      <td>False</td>\n",
       "    </tr>\n",
       "    <tr>\n",
       "      <th>5</th>\n",
       "      <td>17.14.11</td>\n",
       "      <td>2 Weeks with iPhone X</td>\n",
       "      <td>28</td>\n",
       "      <td>2017-11-13 19:07:23+00:00</td>\n",
       "      <td>119180</td>\n",
       "      <td>9763</td>\n",
       "      <td>511</td>\n",
       "      <td>1434</td>\n",
       "      <td>False</td>\n",
       "      <td>False</td>\n",
       "      <td>False</td>\n",
       "    </tr>\n",
       "    <tr>\n",
       "      <th>6</th>\n",
       "      <td>17.14.11</td>\n",
       "      <td>Roy Moore &amp; Jeff Sessions Cold Open - SNL</td>\n",
       "      <td>24</td>\n",
       "      <td>2017-11-12 05:37:17+00:00</td>\n",
       "      <td>2103417</td>\n",
       "      <td>15993</td>\n",
       "      <td>2445</td>\n",
       "      <td>1970</td>\n",
       "      <td>False</td>\n",
       "      <td>False</td>\n",
       "      <td>False</td>\n",
       "    </tr>\n",
       "    <tr>\n",
       "      <th>7</th>\n",
       "      <td>17.14.11</td>\n",
       "      <td>5 Ice Cream Gadgets put to the Test</td>\n",
       "      <td>28</td>\n",
       "      <td>2017-11-12 21:50:37+00:00</td>\n",
       "      <td>817732</td>\n",
       "      <td>23663</td>\n",
       "      <td>778</td>\n",
       "      <td>3432</td>\n",
       "      <td>False</td>\n",
       "      <td>False</td>\n",
       "      <td>False</td>\n",
       "    </tr>\n",
       "    <tr>\n",
       "      <th>8</th>\n",
       "      <td>17.14.11</td>\n",
       "      <td>The Greatest Showman | Official Trailer 2 [HD]...</td>\n",
       "      <td>1</td>\n",
       "      <td>2017-11-13 14:00:23+00:00</td>\n",
       "      <td>826059</td>\n",
       "      <td>3543</td>\n",
       "      <td>119</td>\n",
       "      <td>340</td>\n",
       "      <td>False</td>\n",
       "      <td>False</td>\n",
       "      <td>False</td>\n",
       "    </tr>\n",
       "    <tr>\n",
       "      <th>9</th>\n",
       "      <td>17.14.11</td>\n",
       "      <td>Why the rise of the robots won’t mean the end ...</td>\n",
       "      <td>25</td>\n",
       "      <td>2017-11-13 13:45:16+00:00</td>\n",
       "      <td>256426</td>\n",
       "      <td>12654</td>\n",
       "      <td>1363</td>\n",
       "      <td>2368</td>\n",
       "      <td>False</td>\n",
       "      <td>False</td>\n",
       "      <td>False</td>\n",
       "    </tr>\n",
       "  </tbody>\n",
       "</table>\n",
       "</div>"
      ],
      "text/plain": [
       "  trending_date                                              title  \\\n",
       "0      17.14.11                 WE WANT TO TALK ABOUT OUR MARRIAGE   \n",
       "1      17.14.11  The Trump Presidency: Last Week Tonight with J...   \n",
       "2      17.14.11  Racist Superman | Rudy Mancuso, King Bach & Le...   \n",
       "3      17.14.11                   Nickelback Lyrics: Real or Fake?   \n",
       "4      17.14.11                           I Dare You: GOING BALD!?   \n",
       "5      17.14.11                              2 Weeks with iPhone X   \n",
       "6      17.14.11          Roy Moore & Jeff Sessions Cold Open - SNL   \n",
       "7      17.14.11                5 Ice Cream Gadgets put to the Test   \n",
       "8      17.14.11  The Greatest Showman | Official Trailer 2 [HD]...   \n",
       "9      17.14.11  Why the rise of the robots won’t mean the end ...   \n",
       "\n",
       "   category_id              publish_time    views   likes  dislikes  \\\n",
       "0           22 2017-11-13 17:13:01+00:00   748374   57527      2966   \n",
       "1           24 2017-11-13 07:30:00+00:00  2418783   97185      6146   \n",
       "2           23 2017-11-12 19:05:24+00:00  3191434  146033      5339   \n",
       "3           24 2017-11-13 11:00:04+00:00   343168   10172       666   \n",
       "4           24 2017-11-12 18:01:41+00:00  2095731  132235      1989   \n",
       "5           28 2017-11-13 19:07:23+00:00   119180    9763       511   \n",
       "6           24 2017-11-12 05:37:17+00:00  2103417   15993      2445   \n",
       "7           28 2017-11-12 21:50:37+00:00   817732   23663       778   \n",
       "8            1 2017-11-13 14:00:23+00:00   826059    3543       119   \n",
       "9           25 2017-11-13 13:45:16+00:00   256426   12654      1363   \n",
       "\n",
       "   comment_count  comments_disabled  ratings_disabled  video_error_or_removed  \n",
       "0          15954              False             False                   False  \n",
       "1          12703              False             False                   False  \n",
       "2           8181              False             False                   False  \n",
       "3           2146              False             False                   False  \n",
       "4          17518              False             False                   False  \n",
       "5           1434              False             False                   False  \n",
       "6           1970              False             False                   False  \n",
       "7           3432              False             False                   False  \n",
       "8            340              False             False                   False  \n",
       "9           2368              False             False                   False  "
      ]
     },
     "execution_count": 11,
     "metadata": {},
     "output_type": "execute_result"
    }
   ],
   "source": [
    "usa_df_dropcol.head(10)"
   ]
  },
  {
   "cell_type": "code",
   "execution_count": 12,
   "metadata": {},
   "outputs": [],
   "source": [
    "usa_df_dropcol['category_name']=usa_df_dropcol['category_id'].map(category_usa)"
   ]
  },
  {
   "cell_type": "code",
   "execution_count": 13,
   "metadata": {},
   "outputs": [],
   "source": [
    "mx_df_dropcol['category_name']=mx_df_dropcol['category_id'].map(category_mx)"
   ]
  },
  {
   "cell_type": "code",
   "execution_count": 14,
   "metadata": {},
   "outputs": [],
   "source": [
    "####For use later\n",
    "###usa_df_dropcol[(usa_df_dropcol['likes']== 0) & (usa_df_dropcol['ratings_disabled'] == False)]"
   ]
  },
  {
   "cell_type": "code",
   "execution_count": 15,
   "metadata": {},
   "outputs": [
    {
     "name": "stdout",
     "output_type": "stream",
     "text": [
      "<class 'pandas.core.frame.DataFrame'>\n",
      "RangeIndex: 40949 entries, 0 to 40948\n",
      "Data columns (total 12 columns):\n",
      " #   Column                  Non-Null Count  Dtype              \n",
      "---  ------                  --------------  -----              \n",
      " 0   trending_date           40949 non-null  object             \n",
      " 1   title                   40949 non-null  object             \n",
      " 2   category_id             40949 non-null  int64              \n",
      " 3   publish_time            40949 non-null  datetime64[ns, UTC]\n",
      " 4   views                   40949 non-null  int64              \n",
      " 5   likes                   40949 non-null  int64              \n",
      " 6   dislikes                40949 non-null  int64              \n",
      " 7   comment_count           40949 non-null  int64              \n",
      " 8   comments_disabled       40949 non-null  bool               \n",
      " 9   ratings_disabled        40949 non-null  bool               \n",
      " 10  video_error_or_removed  40949 non-null  bool               \n",
      " 11  category_name           40949 non-null  object             \n",
      "dtypes: bool(3), datetime64[ns, UTC](1), int64(5), object(3)\n",
      "memory usage: 2.9+ MB\n"
     ]
    }
   ],
   "source": [
    "usa_df_dropcol.info()\n",
    "#From the info one can see that there are no null values in any of the cols for usa_df_dropcol"
   ]
  },
  {
   "cell_type": "code",
   "execution_count": 16,
   "metadata": {},
   "outputs": [
    {
     "name": "stdout",
     "output_type": "stream",
     "text": [
      "<class 'pandas.core.frame.DataFrame'>\n",
      "RangeIndex: 40451 entries, 0 to 40450\n",
      "Data columns (total 12 columns):\n",
      " #   Column                  Non-Null Count  Dtype \n",
      "---  ------                  --------------  ----- \n",
      " 0   trending_date           40451 non-null  object\n",
      " 1   title                   40451 non-null  object\n",
      " 2   category_id             40451 non-null  int64 \n",
      " 3   publish_time            40451 non-null  object\n",
      " 4   views                   40451 non-null  int64 \n",
      " 5   likes                   40451 non-null  int64 \n",
      " 6   dislikes                40451 non-null  int64 \n",
      " 7   comment_count           40451 non-null  int64 \n",
      " 8   comments_disabled       40451 non-null  bool  \n",
      " 9   ratings_disabled        40451 non-null  bool  \n",
      " 10  video_error_or_removed  40451 non-null  bool  \n",
      " 11  category_name           40199 non-null  object\n",
      "dtypes: bool(3), int64(5), object(4)\n",
      "memory usage: 2.9+ MB\n"
     ]
    }
   ],
   "source": [
    "mx_df_dropcol.info()\n",
    "#From the info one can see that there are no null values in any of the cols for mx_df_dropcol except the new added col, 'category_name'\n",
    "#Investingating"
   ]
  },
  {
   "cell_type": "code",
   "execution_count": 17,
   "metadata": {},
   "outputs": [
    {
     "name": "stdout",
     "output_type": "stream",
     "text": [
      "<class 'pandas.core.frame.DataFrame'>\n",
      "RangeIndex: 40451 entries, 0 to 40450\n",
      "Data columns (total 12 columns):\n",
      " #   Column                  Non-Null Count  Dtype \n",
      "---  ------                  --------------  ----- \n",
      " 0   trending_date           40451 non-null  object\n",
      " 1   title                   40451 non-null  object\n",
      " 2   category_id             40451 non-null  int64 \n",
      " 3   publish_time            40451 non-null  object\n",
      " 4   views                   40451 non-null  int64 \n",
      " 5   likes                   40451 non-null  int64 \n",
      " 6   dislikes                40451 non-null  int64 \n",
      " 7   comment_count           40451 non-null  int64 \n",
      " 8   comments_disabled       40451 non-null  bool  \n",
      " 9   ratings_disabled        40451 non-null  bool  \n",
      " 10  video_error_or_removed  40451 non-null  bool  \n",
      " 11  category_name           40199 non-null  object\n",
      "dtypes: bool(3), int64(5), object(4)\n",
      "memory usage: 2.9+ MB\n"
     ]
    }
   ],
   "source": [
    "temp_rows_drop=mx_df_dropcol\n",
    "temp_rows_drop.info()"
   ]
  },
  {
   "cell_type": "code",
   "execution_count": 18,
   "metadata": {
    "scrolled": true
   },
   "outputs": [
    {
     "name": "stdout",
     "output_type": "stream",
     "text": [
      "<class 'pandas.core.frame.DataFrame'>\n",
      "Int64Index: 40199 entries, 0 to 40450\n",
      "Data columns (total 12 columns):\n",
      " #   Column                  Non-Null Count  Dtype \n",
      "---  ------                  --------------  ----- \n",
      " 0   trending_date           40199 non-null  object\n",
      " 1   title                   40199 non-null  object\n",
      " 2   category_id             40199 non-null  int64 \n",
      " 3   publish_time            40199 non-null  object\n",
      " 4   views                   40199 non-null  int64 \n",
      " 5   likes                   40199 non-null  int64 \n",
      " 6   dislikes                40199 non-null  int64 \n",
      " 7   comment_count           40199 non-null  int64 \n",
      " 8   comments_disabled       40199 non-null  bool  \n",
      " 9   ratings_disabled        40199 non-null  bool  \n",
      " 10  video_error_or_removed  40199 non-null  bool  \n",
      " 11  category_name           40199 non-null  object\n",
      "dtypes: bool(3), int64(5), object(4)\n",
      "memory usage: 3.2+ MB\n"
     ]
    }
   ],
   "source": [
    "rowstodel=mx_df_dropcol[mx_df_dropcol['category_name'].isnull()].index\n",
    "mx_df_dropcol.drop(rowstodel, inplace=True)\n",
    "mx_df_dropcol.info()"
   ]
  },
  {
   "cell_type": "code",
   "execution_count": 19,
   "metadata": {},
   "outputs": [],
   "source": [
    "usa_df_clean=usa_df_dropcol\n",
    "mx_df_clean=mx_df_dropcol"
   ]
  },
  {
   "cell_type": "code",
   "execution_count": 20,
   "metadata": {},
   "outputs": [
    {
     "data": {
      "text/html": [
       "<div>\n",
       "<style scoped>\n",
       "    .dataframe tbody tr th:only-of-type {\n",
       "        vertical-align: middle;\n",
       "    }\n",
       "\n",
       "    .dataframe tbody tr th {\n",
       "        vertical-align: top;\n",
       "    }\n",
       "\n",
       "    .dataframe thead th {\n",
       "        text-align: right;\n",
       "    }\n",
       "</style>\n",
       "<table border=\"1\" class=\"dataframe\">\n",
       "  <thead>\n",
       "    <tr style=\"text-align: right;\">\n",
       "      <th></th>\n",
       "      <th>views</th>\n",
       "      <th>likes</th>\n",
       "      <th>dislikes</th>\n",
       "      <th>comment_count</th>\n",
       "    </tr>\n",
       "  </thead>\n",
       "  <tbody>\n",
       "    <tr>\n",
       "      <th>count</th>\n",
       "      <td>40,949.0</td>\n",
       "      <td>40,949.0</td>\n",
       "      <td>40,949.0</td>\n",
       "      <td>40,949.0</td>\n",
       "    </tr>\n",
       "    <tr>\n",
       "      <th>mean</th>\n",
       "      <td>2,360,784.6</td>\n",
       "      <td>74,266.7</td>\n",
       "      <td>3,711.4</td>\n",
       "      <td>8,446.8</td>\n",
       "    </tr>\n",
       "    <tr>\n",
       "      <th>std</th>\n",
       "      <td>7,394,113.8</td>\n",
       "      <td>228,885.3</td>\n",
       "      <td>29,029.7</td>\n",
       "      <td>37,430.5</td>\n",
       "    </tr>\n",
       "    <tr>\n",
       "      <th>min</th>\n",
       "      <td>549.0</td>\n",
       "      <td>0.0</td>\n",
       "      <td>0.0</td>\n",
       "      <td>0.0</td>\n",
       "    </tr>\n",
       "    <tr>\n",
       "      <th>25%</th>\n",
       "      <td>242,329.0</td>\n",
       "      <td>5,424.0</td>\n",
       "      <td>202.0</td>\n",
       "      <td>614.0</td>\n",
       "    </tr>\n",
       "    <tr>\n",
       "      <th>50%</th>\n",
       "      <td>681,861.0</td>\n",
       "      <td>18,091.0</td>\n",
       "      <td>631.0</td>\n",
       "      <td>1,856.0</td>\n",
       "    </tr>\n",
       "    <tr>\n",
       "      <th>75%</th>\n",
       "      <td>1,823,157.0</td>\n",
       "      <td>55,417.0</td>\n",
       "      <td>1,938.0</td>\n",
       "      <td>5,755.0</td>\n",
       "    </tr>\n",
       "    <tr>\n",
       "      <th>max</th>\n",
       "      <td>225,211,923.0</td>\n",
       "      <td>5,613,827.0</td>\n",
       "      <td>1,674,420.0</td>\n",
       "      <td>1,361,580.0</td>\n",
       "    </tr>\n",
       "  </tbody>\n",
       "</table>\n",
       "</div>"
      ],
      "text/plain": [
       "              views       likes    dislikes  comment_count\n",
       "count      40,949.0    40,949.0    40,949.0       40,949.0\n",
       "mean    2,360,784.6    74,266.7     3,711.4        8,446.8\n",
       "std     7,394,113.8   228,885.3    29,029.7       37,430.5\n",
       "min           549.0         0.0         0.0            0.0\n",
       "25%       242,329.0     5,424.0       202.0          614.0\n",
       "50%       681,861.0    18,091.0       631.0        1,856.0\n",
       "75%     1,823,157.0    55,417.0     1,938.0        5,755.0\n",
       "max   225,211,923.0 5,613,827.0 1,674,420.0    1,361,580.0"
      ]
     },
     "execution_count": 20,
     "metadata": {},
     "output_type": "execute_result"
    }
   ],
   "source": [
    "pd.options.display.float_format = '{:,.1f}'.format\n",
    "usa_df_clean[['views','likes','dislikes','comment_count']].describe()"
   ]
  },
  {
   "cell_type": "code",
   "execution_count": 21,
   "metadata": {},
   "outputs": [
    {
     "data": {
      "text/html": [
       "<div>\n",
       "<style scoped>\n",
       "    .dataframe tbody tr th:only-of-type {\n",
       "        vertical-align: middle;\n",
       "    }\n",
       "\n",
       "    .dataframe tbody tr th {\n",
       "        vertical-align: top;\n",
       "    }\n",
       "\n",
       "    .dataframe thead th {\n",
       "        text-align: right;\n",
       "    }\n",
       "</style>\n",
       "<table border=\"1\" class=\"dataframe\">\n",
       "  <thead>\n",
       "    <tr style=\"text-align: right;\">\n",
       "      <th></th>\n",
       "      <th>views</th>\n",
       "      <th>likes</th>\n",
       "      <th>dislikes</th>\n",
       "      <th>comment_count</th>\n",
       "    </tr>\n",
       "  </thead>\n",
       "  <tbody>\n",
       "    <tr>\n",
       "      <th>count</th>\n",
       "      <td>40,199.0</td>\n",
       "      <td>40,199.0</td>\n",
       "      <td>40,199.0</td>\n",
       "      <td>40,199.0</td>\n",
       "    </tr>\n",
       "    <tr>\n",
       "      <th>mean</th>\n",
       "      <td>343,243.9</td>\n",
       "      <td>15,888.9</td>\n",
       "      <td>739.3</td>\n",
       "      <td>2,028.5</td>\n",
       "    </tr>\n",
       "    <tr>\n",
       "      <th>std</th>\n",
       "      <td>1,717,762.3</td>\n",
       "      <td>80,733.3</td>\n",
       "      <td>10,836.1</td>\n",
       "      <td>13,580.6</td>\n",
       "    </tr>\n",
       "    <tr>\n",
       "      <th>min</th>\n",
       "      <td>157.0</td>\n",
       "      <td>0.0</td>\n",
       "      <td>0.0</td>\n",
       "      <td>0.0</td>\n",
       "    </tr>\n",
       "    <tr>\n",
       "      <th>25%</th>\n",
       "      <td>16,853.0</td>\n",
       "      <td>303.0</td>\n",
       "      <td>17.0</td>\n",
       "      <td>42.0</td>\n",
       "    </tr>\n",
       "    <tr>\n",
       "      <th>50%</th>\n",
       "      <td>57,057.0</td>\n",
       "      <td>1,264.0</td>\n",
       "      <td>63.0</td>\n",
       "      <td>197.0</td>\n",
       "    </tr>\n",
       "    <tr>\n",
       "      <th>75%</th>\n",
       "      <td>207,418.5</td>\n",
       "      <td>7,318.5</td>\n",
       "      <td>269.0</td>\n",
       "      <td>894.0</td>\n",
       "    </tr>\n",
       "    <tr>\n",
       "      <th>max</th>\n",
       "      <td>100,912,384.0</td>\n",
       "      <td>4,470,923.0</td>\n",
       "      <td>1,353,667.0</td>\n",
       "      <td>905,925.0</td>\n",
       "    </tr>\n",
       "  </tbody>\n",
       "</table>\n",
       "</div>"
      ],
      "text/plain": [
       "              views       likes    dislikes  comment_count\n",
       "count      40,199.0    40,199.0    40,199.0       40,199.0\n",
       "mean      343,243.9    15,888.9       739.3        2,028.5\n",
       "std     1,717,762.3    80,733.3    10,836.1       13,580.6\n",
       "min           157.0         0.0         0.0            0.0\n",
       "25%        16,853.0       303.0        17.0           42.0\n",
       "50%        57,057.0     1,264.0        63.0          197.0\n",
       "75%       207,418.5     7,318.5       269.0          894.0\n",
       "max   100,912,384.0 4,470,923.0 1,353,667.0      905,925.0"
      ]
     },
     "execution_count": 21,
     "metadata": {},
     "output_type": "execute_result"
    }
   ],
   "source": [
    "mx_df_clean[['views','likes','dislikes','comment_count']].describe()"
   ]
  },
  {
   "cell_type": "code",
   "execution_count": 22,
   "metadata": {},
   "outputs": [],
   "source": [
    "#Searching Outliers"
   ]
  },
  {
   "cell_type": "code",
   "execution_count": 23,
   "metadata": {},
   "outputs": [],
   "source": [
    "#sns.boxplot(x=usa_df_clean['views'],showfliers = False)"
   ]
  },
  {
   "cell_type": "code",
   "execution_count": 24,
   "metadata": {},
   "outputs": [
    {
     "data": {
      "text/plain": [
       "<matplotlib.axes._subplots.AxesSubplot at 0x1a75474dc48>"
      ]
     },
     "execution_count": 24,
     "metadata": {},
     "output_type": "execute_result"
    },
    {
     "data": {
      "image/png": "[encoded data removed]",
      "text/plain": [
       "<Figure size 432x288 with 2 Axes>"
      ]
     },
     "metadata": {
      "needs_background": "light"
     },
     "output_type": "display_data"
    }
   ],
   "source": [
    "plt.subplot(1,2,1)\n",
    "plt.title('USA-Outliers')\n",
    "sns.boxplot(x=usa_df_clean['views'])\n",
    "\n",
    "plt.subplot(1,2,2)\n",
    "plt.title('Mexico-Outliers')\n",
    "sns.boxplot(x=mx_df_clean['views'])"
   ]
  },
  {
   "cell_type": "code",
   "execution_count": 25,
   "metadata": {},
   "outputs": [],
   "source": [
    "#import numpy as np\n",
    "#size=40949\n",
    "#y=usa_df_clean['views']\n",
    "#removed_outliers=y.between(y.quantile(.05),y.quantile(.95))\n",
    "#print(str(y[removed_outliers].size) + \"/\" + str(len(usa_df_clean)) + \" data points remain.\")\n",
    "#y[removed_outliers].plot.get_figure()\n",
    "\n",
    "#sns.boxplot(x=y[removed_outliers])"
   ]
  },
  {
   "cell_type": "code",
   "execution_count": 26,
   "metadata": {},
   "outputs": [],
   "source": [
    "temp_mx=mx_df_clean #saving the cleaned seperate US df in another temp_mx"
   ]
  },
  {
   "cell_type": "code",
   "execution_count": 27,
   "metadata": {},
   "outputs": [],
   "source": [
    "temp_usa=usa_df_clean #saving the cleaned seperate MX df in another temp_mx"
   ]
  },
  {
   "cell_type": "code",
   "execution_count": 28,
   "metadata": {},
   "outputs": [],
   "source": [
    "#Combining the two country's data together. Added another column 'country' to both cleaned dataframes and them appended MX under USA df. "
   ]
  },
  {
   "cell_type": "code",
   "execution_count": 29,
   "metadata": {},
   "outputs": [],
   "source": [
    "mx_df_clean['country']='Mexico'"
   ]
  },
  {
   "cell_type": "code",
   "execution_count": 30,
   "metadata": {},
   "outputs": [],
   "source": [
    "usa_df_clean['country']='USA'"
   ]
  },
  {
   "cell_type": "code",
   "execution_count": 31,
   "metadata": {},
   "outputs": [],
   "source": [
    "combined_usa_mx_df=usa_df_clean.append(mx_df_clean)"
   ]
  },
  {
   "cell_type": "code",
   "execution_count": 32,
   "metadata": {},
   "outputs": [
    {
     "name": "stdout",
     "output_type": "stream",
     "text": [
      "<class 'pandas.core.frame.DataFrame'>\n",
      "Int64Index: 81148 entries, 0 to 40450\n",
      "Data columns (total 13 columns):\n",
      " #   Column                  Non-Null Count  Dtype \n",
      "---  ------                  --------------  ----- \n",
      " 0   trending_date           81148 non-null  object\n",
      " 1   title                   81148 non-null  object\n",
      " 2   category_id             81148 non-null  int64 \n",
      " 3   publish_time            81148 non-null  object\n",
      " 4   views                   81148 non-null  int64 \n",
      " 5   likes                   81148 non-null  int64 \n",
      " 6   dislikes                81148 non-null  int64 \n",
      " 7   comment_count           81148 non-null  int64 \n",
      " 8   comments_disabled       81148 non-null  bool  \n",
      " 9   ratings_disabled        81148 non-null  bool  \n",
      " 10  video_error_or_removed  81148 non-null  bool  \n",
      " 11  category_name           81148 non-null  object\n",
      " 12  country                 81148 non-null  object\n",
      "dtypes: bool(3), int64(5), object(5)\n",
      "memory usage: 7.0+ MB\n"
     ]
    }
   ],
   "source": [
    "combined_usa_mx_df.info()"
   ]
  },
  {
   "cell_type": "code",
   "execution_count": 33,
   "metadata": {},
   "outputs": [],
   "source": [
    "#RESETTING INDEX AS APPENDING MX DF TO USA DF made the index out of order\n",
    "combined_usa_mx_df.reset_index(inplace = True, drop = True) \n",
    "\n",
    "#DROPPING DUPLICATES\n",
    "combined_usa_mx_df.drop_duplicates(inplace=True)\n",
    "\n",
    "#RESETTING INDEX one more time as dropping dups made the index out of order again\n",
    "combined_usa_mx_df.reset_index(inplace = True, drop = True)\n",
    "\n",
    "#combined_usa_mx_df.info()\n",
    "#remaining records=81051"
   ]
  },
  {
   "cell_type": "code",
   "execution_count": 34,
   "metadata": {},
   "outputs": [],
   "source": [
    "# Making trend_date and publish time as datetime objects\n",
    "\n",
    "#PUBLISH TIME:\n",
    "combined_usa_mx_df['publish_time']=pd.to_datetime(combined_usa_mx_df['publish_time'],utc=True)\n",
    "combined_usa_mx_df['publish_time'] = combined_usa_mx_df['publish_time'].apply(lambda x: x.date())\n",
    "combined_usa_mx_df['publish_time']=pd.to_datetime(combined_usa_mx_df['publish_time'])\n",
    "\n",
    "\n",
    "#TRENDING_DATE\n",
    "#Since the trending_date is in non triditional format i.e stored as an object with format YY.DD.MM a function to reorder these \n",
    "#values is necessary. Tempdate func reorders the values to show YYMMDD\n",
    "\n",
    "def tempdate(a):\n",
    "    b=a.split(\".\")\n",
    "    c=b[1]+b[2]+b[0]\n",
    "    return c\n",
    "\n",
    "combined_usa_mx_df['trending_date_new']=combined_usa_mx_df['trending_date'].apply(tempdate)\n",
    "combined_usa_mx_df['trending_date_new']=pd.to_datetime(combined_usa_mx_df['trending_date_new'])\n",
    "combined_usa_mx_df['trending_date']=combined_usa_mx_df['trending_date_new']\n",
    "combined_usa_mx_df.drop(['trending_date_new'],axis=1,inplace=True)\n",
    "combined_usa_mx_df['trending_date']=pd.to_datetime(combined_usa_mx_df['trending_date'])\n",
    "#combined_usa_mx_df.info()\n",
    "#Both dateTime columns have been converted to dateTime type successfully\n",
    "###"
   ]
  },
  {
   "cell_type": "code",
   "execution_count": 35,
   "metadata": {},
   "outputs": [
    {
     "name": "stdout",
     "output_type": "stream",
     "text": [
      "<class 'pandas.core.frame.DataFrame'>\n",
      "RangeIndex: 81051 entries, 0 to 81050\n",
      "Data columns (total 13 columns):\n",
      " #   Column                  Non-Null Count  Dtype         \n",
      "---  ------                  --------------  -----         \n",
      " 0   trending_date           81051 non-null  datetime64[ns]\n",
      " 1   title                   81051 non-null  object        \n",
      " 2   category_id             81051 non-null  int64         \n",
      " 3   publish_time            81051 non-null  datetime64[ns]\n",
      " 4   views                   81051 non-null  int64         \n",
      " 5   likes                   81051 non-null  int64         \n",
      " 6   dislikes                81051 non-null  int64         \n",
      " 7   comment_count           81051 non-null  int64         \n",
      " 8   comments_disabled       81051 non-null  bool          \n",
      " 9   ratings_disabled        81051 non-null  bool          \n",
      " 10  video_error_or_removed  81051 non-null  bool          \n",
      " 11  category_name           81051 non-null  object        \n",
      " 12  country                 81051 non-null  object        \n",
      "dtypes: bool(3), datetime64[ns](2), int64(5), object(3)\n",
      "memory usage: 6.4+ MB\n"
     ]
    }
   ],
   "source": [
    "combined_usa_mx_df.info()"
   ]
  },
  {
   "cell_type": "code",
   "execution_count": 36,
   "metadata": {},
   "outputs": [
    {
     "name": "stdout",
     "output_type": "stream",
     "text": [
      "<class 'pandas.core.frame.DataFrame'>\n",
      "Int64Index: 70795 entries, 0 to 81050\n",
      "Data columns (total 13 columns):\n",
      " #   Column                  Non-Null Count  Dtype         \n",
      "---  ------                  --------------  -----         \n",
      " 0   trending_date           70795 non-null  datetime64[ns]\n",
      " 1   title                   70795 non-null  object        \n",
      " 2   category_id             70795 non-null  int64         \n",
      " 3   publish_time            70795 non-null  datetime64[ns]\n",
      " 4   views                   70795 non-null  int64         \n",
      " 5   likes                   70795 non-null  int64         \n",
      " 6   dislikes                70795 non-null  int64         \n",
      " 7   comment_count           70795 non-null  int64         \n",
      " 8   comments_disabled       70795 non-null  bool          \n",
      " 9   ratings_disabled        70795 non-null  bool          \n",
      " 10  video_error_or_removed  70795 non-null  bool          \n",
      " 11  category_name           70795 non-null  object        \n",
      " 12  country                 70795 non-null  object        \n",
      "dtypes: bool(3), datetime64[ns](2), int64(5), object(3)\n",
      "memory usage: 6.1+ MB\n"
     ]
    }
   ],
   "source": [
    "#dropping all the rows where trending date is earlier than video's publishing date. Started with 81051 rows. Almost 10K rows will be dropped based on this criteria\n",
    "#leaving 70795 rows\n",
    "\n",
    "t=combined_usa_mx_df[(combined_usa_mx_df.trending_date) < (combined_usa_mx_df.publish_time)].index\n",
    "\n",
    "combined_usa_mx_df.drop(t,inplace=True)\n",
    "combined_usa_mx_df.info()"
   ]
  },
  {
   "cell_type": "code",
   "execution_count": null,
   "metadata": {},
   "outputs": [],
   "source": []
  }
 ],
 "metadata": {
  "kernelspec": {
   "display_name": "Python 3",
   "language": "python",
   "name": "python3"
  },
  "language_info": {
   "codemirror_mode": {
    "name": "ipython",
    "version": 3
   },
   "file_extension": ".py",
   "mimetype": "text/x-python",
   "name": "python",
   "nbconvert_exporter": "python",
   "pygments_lexer": "ipython3",
   "version": "3.7.6"
  }
 },
 "nbformat": 4,
 "nbformat_minor": 4
}
