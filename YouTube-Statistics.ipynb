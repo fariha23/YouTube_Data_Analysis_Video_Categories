{
 "cells": [
  {
   "cell_type": "code",
   "execution_count": 378,
   "metadata": {},
   "outputs": [],
   "source": [
    "import YouTube_Data_Story as ds\n",
    "import YouTube_Data_Wrangling as dw\n",
    "from matplotlib.gridspec import GridSpec\n",
    "import pandas as pd\n",
    "import matplotlib.pyplot as plt\n",
    "import numpy as np\n",
    "import seaborn as sns\n",
    "import math\n",
    "import requests\n",
    "import matplotlib as mpl\n",
    "from matplotlib.ticker import FuncFormatter\n",
    "from scipy.stats import t, ttest_ind_from_stats\n",
    "from matplotlib.patches import Patch\n",
    "from matplotlib.lines import Line2D\n",
    "pd.options.display.float_format = '{:,.2f}'.format"
   ]
  },
  {
   "cell_type": "code",
   "execution_count": 434,
   "metadata": {},
   "outputs": [],
   "source": [
    "#DataFrames\n",
    "df_usa=dw.combined_usa_mx_df[dw.combined_usa_mx_df.country=='USA']\n",
    "df_mx=dw.combined_usa_mx_df[dw.combined_usa_mx_df.country=='Mexico']\n",
    "\n",
    "\n",
    "df_usa_views_log=np.log10(df_usa['views']+1)\n",
    "df_usa_likes_log=np.log10(df_usa['likes']+1)\n",
    "df_usa_dlikes_log=np.log10(df_usa['dislikes']+1)\n",
    "df_usa_comments_log=np.log10(df_usa['comment_count']+1)\n",
    "\n",
    "#Shows in USA\n",
    "shows_usa_df=dw.combined_usa_mx_df.loc[dw.combined_usa_mx_df.category_name=='Shows']\n"
   ]
  },
  {
   "cell_type": "code",
   "execution_count": 463,
   "metadata": {},
   "outputs": [],
   "source": [
    "#FUNCTIONS:\n",
    "\n",
    "def ecdf(data):\n",
    "    x=np.sort(data)\n",
    "    y=np.arange(1,len(x)+1)/len(x)\n",
    "    _=plt.plot(x,y,marker='.',linestyle='none') \n",
    "\n",
    "def vertical_line(df, func, label, color, text_place):\n",
    "    _=plt.axvline(func(df), color=color, linestyle=':', label=label, lw=2.5)\n",
    "    _=plt.text(func(df),text_place,'{:,.2f}M' .format((func(df))/1000000),rotation=90, fontsize=15)\n"
   ]
  },
  {
   "cell_type": "markdown",
   "metadata": {},
   "source": [
    "####  Scenario 1:\n",
    "For YouTube (Client) to consider investing properly in people, infrastructure etc, they need to know audience engagement with the videos in both countries. \n",
    "For this they need to know the views/likes/dislikes/comment_count distribution and a 95% confidence interval around the population mean. \n",
    "We consider df_usa_views to be a sample and we are inferening population statistics for all the video views across all categories in USA. \n"
   ]
  },
  {
   "cell_type": "code",
   "execution_count": 484,
   "metadata": {},
   "outputs": [
    {
     "name": "stdout",
     "output_type": "stream",
     "text": [
      ".95% of the views for USA are under: 8.89M\n",
      ".50% of the views for USA are under: 0.67M\n",
      ".The PEAK of the distribution is closer to it's median 0.67M, rather than mean 2.33M\n",
      "...This is expected behavior from a left skewed distribution\n",
      ".Other statistics of the views in the USA:\n",
      ".Mean= 2.33M\n",
      ".Standard Error ~ STD population = 7.26M\n",
      ".Median= 0.67M\n"
     ]
    },
    {
     "data": {
      "image/png": "[encoded data removed]",
      "text/plain": [
       "<Figure size 432x288 with 1 Axes>"
      ]
     },
     "metadata": {},
     "output_type": "display_data"
    }
   ],
   "source": [
    "#Finding population statistics of the \"views\" in the USA\n",
    "\n",
    "# 1. Finding Standard Deviation (Standard Error), Mean, Median, 95th Percentile, \n",
    "# Margin of Error for the distribution df_usa['views']\n",
    "\n",
    "df_usa_views=df_usa['views']\n",
    "std=np.std(df_usa['views'], ddof=1)\n",
    "mean=np.mean(df_usa['views'])\n",
    "median=np.median(df_usa['views'])\n",
    "percent95= np.percentile(df_usa['views'], 95)\n",
    "\n",
    "# 2. Plotting hist distribution of 'views' in USA\n",
    "\n",
    "_=plt.hist(df_usa['views'], bins=500)\n",
    "#Almost all of the videos in USA got views under 20 million mark therefore I set the xlim(0, 20Million)\n",
    "_=plt.xlim([0, 20000000]) #20 million\n",
    "_=plt.xlabel(\"Number of views\")\n",
    "_=plt.ylabel(\"Video Count\")\n",
    "\n",
    "#Mean\n",
    "vertical_line(df_usa_views, np.mean, 'mean', 'r', 10000)\n",
    "\n",
    "#Median\n",
    "vertical_line(df_usa_views, np.median, 'median', 'orange', 10000)\n",
    "\n",
    "#95th and 50th percentile data\n",
    "_=plt.axvline(percent95, color='red', label='95th Percentile')\n",
    "_=plt.text(percent95,10000,'{:,.2f}M' .format(percent95/1000000),rotation=90, fontsize=15)\n",
    "_=plt.legend(loc=0)\n",
    "\n",
    "#Commentary\n",
    "\n",
    "print(\".95% of the views for USA are under: \" + '{:,.2f}M' .format(percent95/1000000))\n",
    "print(\".The PEAK of the distribution is closer to it's median {:,.2f}M, rather than mean {:,.2f}M\".format(median/1000000, mean/1000000))\n",
    "print(\"...This is expected behavior from a left skewed distribution\")\n",
    "print(\".Other statistics of the views in the USA:\")\n",
    "print('.Mean= {:,.2f}M'.format(mean/1000000))\n",
    "print('.Standard Error ~ STD population = {:,.2f}M'.format(std/1000000))\n",
    "print('.Median= {:,.2f}M'.format(median/1000000))"
   ]
  },
  {
   "cell_type": "code",
   "execution_count": 483,
   "metadata": {},
   "outputs": [
    {
     "name": "stdout",
     "output_type": "stream",
     "text": [
      "t_critical from t-table (flipped): 2.3264522612865988\n",
      "t_threshold_value from sample data and mu value: -17.502649316963286\n"
     ]
    }
   ],
   "source": [
    "# Hypothetical Question: How likely it is to find sample views > 3M willing to take type 1 error chance with probablity 1%\n",
    "# H0: mean views (mu) > 3M (assuming it is true)\n",
    "# H1: mean views (mu) <=3M \n",
    "\n",
    "#Since we need to find one sided answer (> 3M) we can use t-test here. \n",
    "\n",
    "mu = 3000100  #3M + 100 (to barely make H0 true)\n",
    "\n",
    "p=0.01 #1% prob of accepting type1 error\n",
    "size=len(df_usa)\n",
    "df=size -1\n",
    "t_critical = t.ppf(p, df)\n",
    "t_critical = t_critical\n",
    "\n",
    "t_threshold_value= (mean-mu)/(std/(np.sqrt(size)))\n",
    "\n",
    "#t_critical value shows are where the 99% of the values of this sample lie. We need to \n",
    "#flip the sign of t_critical here since we are interested in values > mean 2.33M\n",
    "\n",
    "print(\"t_critical from t-table (flipped): \" + str(-1*t_critical))\n",
    "print(\"t_threshold_value from sample data and mu value: \" + str(t_threshold_value))\n",
    "\n"
   ]
  },
  {
   "cell_type": "markdown",
   "metadata": {},
   "source": [
    "### Analysis\n",
    "#### The t threshold value is not within 1% part of the curve on the right tail of the histogram curve. Infact it is way off to the other side of the curve (-17.5). \n",
    "#### Therefore null hypothesis is rejected in favor of alternative hypothesis based on the sample data provided for analysis. \n",
    "\n"
   ]
  },
  {
   "cell_type": "markdown",
   "metadata": {},
   "source": [
    "####  Scenario 2:\n",
    "The shows category in USA data showed the most increment change (553%) {see data story ipnynb @/github.com/fariha23/YouTube_Data_Analysis_Video_Categories/} \n",
    "YouTube would like to know how likely it is to see the views between the higher end of the views acquired by Shows category. Lets say they want to see how likely it is that a new Shows video will acquire between 1.2M - 1.4M views"
   ]
  },
  {
   "cell_type": "code",
   "execution_count": 417,
   "metadata": {},
   "outputs": [],
   "source": [
    "temp=shows_usa_df['views']\n",
    "shows_usa_views_df=temp.reset_index(drop=True)"
   ]
  },
  {
   "cell_type": "code",
   "execution_count": 466,
   "metadata": {},
   "outputs": [
    {
     "data": {
      "text/plain": [
       "(3673, 1445949, 816506.4, 1107598.0)"
      ]
     },
     "execution_count": 466,
     "metadata": {},
     "output_type": "execute_result"
    },
    {
     "data": {
      "image/png": "[encoded data removed]",
      "text/plain": [
       "<Figure size 432x288 with 1 Axes>"
      ]
     },
     "metadata": {},
     "output_type": "display_data"
    }
   ],
   "source": [
    "shows_usa_views_df.hist()\n",
    "\n",
    "#Mean\n",
    "vertical_line(shows_usa_views_df, np.mean, 'mean', 'r', 10)\n",
    "#Median\n",
    "vertical_line(shows_usa_views_df, np.median, 'median', 'orange', 10)\n",
    "_=plt.legend(loc=0)\n",
    "\n",
    "np.min(shows_usa_views_df), np.max(shows_usa_views_df), np.mean(shows_usa_views_df), np.median(shows_usa_views_df)"
   ]
  },
  {
   "cell_type": "code",
   "execution_count": null,
   "metadata": {},
   "outputs": [],
   "source": [
    "# SCRATCH PAD\n",
    "### print('.Margin_Error= {:,.2f}M'.format(ME/1000000))\n",
    "### print('.CI_left= {:,.2f}M'.format(CI_lower_end/1000000))\n",
    "### print('>>>>>>>>>>>>>>>')\n",
    "\n",
    "#2. Using t-table (because it's one sided hist) calculating ME, CI\n",
    "#Keeping alpha = 0.05\n",
    "\n",
    "#p=0.05\n",
    "#size=len(df_usa)\n",
    "#df=size -1\n",
    "#t_critical = t.ppf(p, df)\n",
    "\n",
    "#SE=std/np.sqrt(size)\n",
    "#ME=t_critical * SE\n",
    "#CI_lower_end=mean+ME"
   ]
  },
  {
   "cell_type": "code",
   "execution_count": null,
   "metadata": {},
   "outputs": [],
   "source": []
  }
 ],
 "metadata": {
  "kernelspec": {
   "display_name": "Python 3",
   "language": "python",
   "name": "python3"
  },
  "language_info": {
   "codemirror_mode": {
    "name": "ipython",
    "version": 3
   },
   "file_extension": ".py",
   "mimetype": "text/x-python",
   "name": "python",
   "nbconvert_exporter": "python",
   "pygments_lexer": "ipython3",
   "version": "3.7.6"
  }
 },
 "nbformat": 4,
 "nbformat_minor": 4
}
