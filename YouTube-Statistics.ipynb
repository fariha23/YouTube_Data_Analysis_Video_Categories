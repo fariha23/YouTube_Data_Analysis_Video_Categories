{
 "cells": [
  {
   "cell_type": "code",
   "execution_count": 356,
   "metadata": {},
   "outputs": [],
   "source": [
    "import YouTube_Data_Story as ds\n",
    "import YouTube_Data_Wrangling as dw\n",
    "from matplotlib.gridspec import GridSpec\n",
    "import pandas as pd\n",
    "import matplotlib.pyplot as plt\n",
    "import numpy as np\n",
    "import seaborn as sns\n",
    "import math\n",
    "import requests\n",
    "import matplotlib as mpl\n",
    "from matplotlib.ticker import FuncFormatter\n",
    "from scipy.stats import t, ttest_ind_from_stats\n",
    "from matplotlib.patches import Patch\n",
    "from matplotlib.lines import Line2D"
   ]
  },
  {
   "cell_type": "code",
   "execution_count": 367,
   "metadata": {},
   "outputs": [
    {
     "data": {
      "text/plain": [
       "(35726,)"
      ]
     },
     "execution_count": 367,
     "metadata": {},
     "output_type": "execute_result"
    }
   ],
   "source": [
    "#DataFrames\n",
    "df_usa=dw.combined_usa_mx_df[dw.combined_usa_mx_df.country=='USA']\n",
    "df_mx=dw.combined_usa_mx_df[dw.combined_usa_mx_df.country=='Mexico']\n",
    "\n",
    "\n",
    "df_usa_views_log=np.log10(df_usa['views']+1)\n",
    "df_usa_likes_log=np.log10(df_usa['likes']+1)\n",
    "df_usa_dlikes_log=np.log10(df_usa['dislikes']+1)\n",
    "df_usa_comments_log=np.log10(df_usa['comment_count']+1)\n",
    "\n"
   ]
  },
  {
   "cell_type": "code",
   "execution_count": 358,
   "metadata": {},
   "outputs": [],
   "source": [
    "#FUNCTIONS:\n",
    "\n",
    "def ecdf(data):\n",
    "    x=np.sort(data)\n",
    "    y=np.arange(1,len(x)+1)/len(x)\n",
    "    _=plt.plot(x,y,marker='.',linestyle='none')  "
   ]
  },
  {
   "cell_type": "markdown",
   "metadata": {},
   "source": [
    "####  Scenario 1:\n",
    "For YouTube (Client) to consider investing properly in people, infrastructure etc, they need to know audience engagement with the videos in both countries. \n",
    "For this they need to know the views/likes/dislikes/comment_count distribution and a 95% confidence interval around the population mean. \n",
    "We consider df_usa_views to be a sample and we are inferening population statistics for all the video views across all categories in USA. \n"
   ]
  },
  {
   "cell_type": "code",
   "execution_count": 370,
   "metadata": {},
   "outputs": [
    {
     "name": "stdout",
     "output_type": "stream",
     "text": [
      ".95% of the views for USA are under: 8.89M\n",
      ".The PEAK of the distribution is closer to it's median 0.67M, rather than mean 2.33M\n",
      "...This is expected behavior from a left skewed distribution\n",
      ".Other statistics of the views in the USA:\n",
      ".Mean= 2.33M\n",
      ".Standard Error ~ STD population = 7.26M\n",
      ".Median= 0.67M\n",
      ".Margin_Error= -0.06M\n",
      ".CI_left= 2.26M\n",
      ">>>>>>>>>>>>>>>\n"
     ]
    },
    {
     "data": {
      "image/png": "[encoded data removed]",
      "text/plain": [
       "<Figure size 432x288 with 1 Axes>"
      ]
     },
     "metadata": {},
     "output_type": "display_data"
    }
   ],
   "source": [
    "#Finding population statistics of the \"views\" in the USA\n",
    "\n",
    "# 1. Finding Standard Deviation (Stabdard Error), Mean, Median, 95th Percentile, CI_lower_end, Margin of Error for \n",
    "# the distribution df_usa['views']\n",
    "\n",
    "std=np.std(df_usa['views'], ddof=1)\n",
    "mean=np.mean(df_usa['views'])\n",
    "median=np.median(df_usa['views'])\n",
    "percent95= np.percentile(df_usa['views'], 95)\n",
    "\n",
    "#2. Using t-table (because it's one sided hist) calculating ME, CI\n",
    "#Keeping alpha = 0.05\n",
    "\n",
    "p=0.05\n",
    "size=len(df_usa)\n",
    "df=size -1\n",
    "t_critical = t.ppf(p, df)\n",
    "\n",
    "SE=std/np.sqrt(size)\n",
    "ME=t_critical * SE\n",
    "CI_lower_end=mean+ME\n",
    "\n",
    "\n",
    "# 2. Plotting hist distribution of 'views' in USA\n",
    "\n",
    "_=plt.hist(df_usa['views'], bins=500)\n",
    "#Almost all of the videos in USA got views under 20 million mark therefore I set the xlim(0, 20Million)\n",
    "_=plt.xlim([0, 20000000]) #20 million\n",
    "_=plt.xlabel(\"Number of views\")\n",
    "_=plt.ylabel(\"Video Count\")\n",
    "\n",
    "#Mean\n",
    "_=plt.axvline(mean, color='red', linestyle=':', label='Mean')\n",
    "\n",
    "_=plt.text(mean,10000,'{:,.2f}M' .format(mean/1000000),rotation=90, fontsize=15)\n",
    "\n",
    "#Median\n",
    "_=plt.axvline(median, color='orange', linestyle=':', label='Median')\n",
    "\n",
    "_=plt.text(median,10000,'{:,.2f}M' .format(median/1000000),rotation=90, fontsize=15)\n",
    "\n",
    "\n",
    "#95th percentile data\n",
    "_=plt.axvline(percent95, color='red', label='95th Percentile')\n",
    "_=plt.text(percent95,10000,'{:,.2f}M' .format(percent95/1000000),rotation=90, fontsize=15)\n",
    "_=plt.legend(loc=0)\n",
    "\n",
    "#Commentary\n",
    "\n",
    "print(\".95% of the views for USA are under: \" + '{:,.2f}M' .format(percent95/1000000))\n",
    "print(\".The PEAK of the distribution is closer to it's median {:,.2f}M, rather than mean {:,.2f}M\".format(median/1000000, mean/1000000))\n",
    "print(\"...This is expected behavior from a left skewed distribution\")\n",
    "print(\".Other statistics of the views in the USA:\")\n",
    "print('.Mean= {:,.2f}M'.format(mean/1000000))\n",
    "print('.Standard Error ~ STD population = {:,.2f}M'.format(std/1000000))\n",
    "print('.Median= {:,.2f}M'.format(median/1000000))\n",
    "print('.Margin_Error= {:,.2f}M'.format(ME/1000000))\n",
    "print('.CI_left= {:,.2f}M'.format(CI_lower_end/1000000))\n",
    "print('>>>>>>>>>>>>>>>')\n"
   ]
  },
  {
   "cell_type": "markdown",
   "metadata": {},
   "source": [
    "## Analysis:\n",
    "####If I were to tell YouTube(client), how enagaged USA audiences are I need to first find statistics on a normal distribution of the sample. Since its clearly not, Central Limit Theorm (CLT) states if three conditions are met then the distribution will depict normal distribution. (they do!!)\n",
    "#### 1. Random Samples (YES!!), 2. Independent conditions(Number of views from one video doesnt effect views of other videos), 3. Normal condition i.e. >=10 succ and failures. \n",
    "#### Report: On average the videos get 2.33M views (total videos in USA sample: 35726)\n",
    "### The median of these average views is 0.67M \n",
    "## There are outliers that make Mean way more than majority of the video views\n",
    "## The histogram shows that majority of the views are around median (0.67M)of the sample data rather than mean\n",
    "##### Will add analysis based on CI with mean after talking to Ana"
   ]
  },
  {
   "cell_type": "code",
   "execution_count": null,
   "metadata": {},
   "outputs": [],
   "source": []
  },
  {
   "cell_type": "code",
   "execution_count": null,
   "metadata": {},
   "outputs": [],
   "source": []
  }
 ],
 "metadata": {
  "kernelspec": {
   "display_name": "Python 3",
   "language": "python",
   "name": "python3"
  },
  "language_info": {
   "codemirror_mode": {
    "name": "ipython",
    "version": 3
   },
   "file_extension": ".py",
   "mimetype": "text/x-python",
   "name": "python",
   "nbconvert_exporter": "python",
   "pygments_lexer": "ipython3",
   "version": "3.7.6"
  }
 },
 "nbformat": 4,
 "nbformat_minor": 4
}
